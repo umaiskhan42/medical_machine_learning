{
 "cells": [
  {
   "cell_type": "code",
   "execution_count": 1,
   "id": "7e7ffaa2",
   "metadata": {
    "_cell_guid": "b1076dfc-b9ad-4769-8c92-a6c4dae69d19",
    "_uuid": "8f2839f25d086af736a60e9eeb907d3b93b6e0e5",
    "execution": {
     "iopub.execute_input": "2024-01-07T19:04:43.965818Z",
     "iopub.status.busy": "2024-01-07T19:04:43.965121Z",
     "iopub.status.idle": "2024-01-07T19:04:57.450600Z",
     "shell.execute_reply": "2024-01-07T19:04:57.449740Z"
    },
    "papermill": {
     "duration": 13.498307,
     "end_time": "2024-01-07T19:04:57.453060",
     "exception": false,
     "start_time": "2024-01-07T19:04:43.954753",
     "status": "completed"
    },
    "tags": []
   },
   "outputs": [
    {
     "name": "stderr",
     "output_type": "stream",
     "text": [
      "/opt/conda/lib/python3.10/site-packages/scipy/__init__.py:146: UserWarning: A NumPy version >=1.16.5 and <1.23.0 is required for this version of SciPy (detected version 1.24.3\n",
      "  warnings.warn(f\"A NumPy version >={np_minversion} and <{np_maxversion}\"\n",
      "/opt/conda/lib/python3.10/site-packages/tensorflow_addons/utils/tfa_eol_msg.py:23: UserWarning: \n",
      "\n",
      "TensorFlow Addons (TFA) has ended development and introduction of new features.\n",
      "TFA has entered a minimal maintenance and release mode until a planned end of life in May 2024.\n",
      "Please modify downstream libraries to take dependencies from other repositories in our TensorFlow community (e.g. Keras, Keras-CV, and Keras-NLP). \n",
      "\n",
      "For more information see: https://github.com/tensorflow/addons/issues/2807 \n",
      "\n",
      "  warnings.warn(\n"
     ]
    }
   ],
   "source": [
    "import numpy as np \n",
    "import pandas as pd\n",
    "import os\n",
    "import glob\n",
    "import itertools\n",
    "import time\n",
    "import seaborn as sns\n",
    "import tensorflow as tf\n",
    "import tensorflow_addons as tfa\n",
    "import matplotlib.pyplot as plt\n",
    "from tensorflow.keras import backend as K\n",
    "from tensorflow.keras.applications import EfficientNetB0\n",
    "from tensorflow.keras.models import Sequential, Model\n",
    "from tensorflow.keras.layers import LayerNormalization, Input, LSTM, GRU, TimeDistributed\n",
    "from tensorflow.keras.layers import Conv2D, BatchNormalization, ReLU, MaxPooling2D, Flatten, Dropout, GlobalAveragePooling2D, Dense, Softmax, Bidirectional, GlobalAveragePooling1D\n",
    "from tensorflow.keras.optimizers import Adam\n",
    "from pandas import DataFrame\n",
    "from typing import List\n",
    "from PIL import Image\n",
    "from sklearn.model_selection import train_test_split\n",
    "from sklearn.metrics import roc_auc_score, roc_curve"
   ]
  },
  {
   "cell_type": "code",
   "execution_count": 2,
   "id": "5c8f2345",
   "metadata": {
    "execution": {
     "iopub.execute_input": "2024-01-07T19:04:57.472639Z",
     "iopub.status.busy": "2024-01-07T19:04:57.472076Z",
     "iopub.status.idle": "2024-01-07T19:05:12.028845Z",
     "shell.execute_reply": "2024-01-07T19:05:12.027912Z"
    },
    "papermill": {
     "duration": 14.568676,
     "end_time": "2024-01-07T19:05:12.030918",
     "exception": false,
     "start_time": "2024-01-07T19:04:57.462242",
     "status": "completed"
    },
    "tags": []
   },
   "outputs": [
    {
     "data": {
      "text/html": [
       "<div>\n",
       "<style scoped>\n",
       "    .dataframe tbody tr th:only-of-type {\n",
       "        vertical-align: middle;\n",
       "    }\n",
       "\n",
       "    .dataframe tbody tr th {\n",
       "        vertical-align: top;\n",
       "    }\n",
       "\n",
       "    .dataframe thead th {\n",
       "        text-align: right;\n",
       "    }\n",
       "</style>\n",
       "<table border=\"1\" class=\"dataframe\">\n",
       "  <thead>\n",
       "    <tr style=\"text-align: right;\">\n",
       "      <th></th>\n",
       "      <th>Image Index</th>\n",
       "      <th>Finding Labels</th>\n",
       "      <th>Follow-up #</th>\n",
       "      <th>Patient ID</th>\n",
       "      <th>Patient Age</th>\n",
       "      <th>Patient Gender</th>\n",
       "      <th>View Position</th>\n",
       "      <th>OriginalImageWidth</th>\n",
       "      <th>OriginalImageHeight</th>\n",
       "      <th>OriginalImagePixelSpacingX</th>\n",
       "      <th>...</th>\n",
       "      <th>Edema</th>\n",
       "      <th>Cardiomegaly</th>\n",
       "      <th>Mass</th>\n",
       "      <th>Pneumothorax</th>\n",
       "      <th>Consolidation</th>\n",
       "      <th>Fibrosis</th>\n",
       "      <th>Pleural_Thickening</th>\n",
       "      <th>Emphysema</th>\n",
       "      <th>Nodule</th>\n",
       "      <th>Infiltration</th>\n",
       "    </tr>\n",
       "  </thead>\n",
       "  <tbody>\n",
       "    <tr>\n",
       "      <th>0</th>\n",
       "      <td>00000001_000.png</td>\n",
       "      <td>Cardiomegaly</td>\n",
       "      <td>0</td>\n",
       "      <td>1</td>\n",
       "      <td>58</td>\n",
       "      <td>M</td>\n",
       "      <td>PA</td>\n",
       "      <td>2682</td>\n",
       "      <td>2749</td>\n",
       "      <td>0.143</td>\n",
       "      <td>...</td>\n",
       "      <td>0.0</td>\n",
       "      <td>1.0</td>\n",
       "      <td>0.0</td>\n",
       "      <td>0.0</td>\n",
       "      <td>0.0</td>\n",
       "      <td>0.0</td>\n",
       "      <td>0.0</td>\n",
       "      <td>0.0</td>\n",
       "      <td>0.0</td>\n",
       "      <td>0.0</td>\n",
       "    </tr>\n",
       "    <tr>\n",
       "      <th>1</th>\n",
       "      <td>00000001_001.png</td>\n",
       "      <td>Cardiomegaly|Emphysema</td>\n",
       "      <td>1</td>\n",
       "      <td>1</td>\n",
       "      <td>58</td>\n",
       "      <td>M</td>\n",
       "      <td>PA</td>\n",
       "      <td>2894</td>\n",
       "      <td>2729</td>\n",
       "      <td>0.143</td>\n",
       "      <td>...</td>\n",
       "      <td>0.0</td>\n",
       "      <td>1.0</td>\n",
       "      <td>0.0</td>\n",
       "      <td>0.0</td>\n",
       "      <td>0.0</td>\n",
       "      <td>0.0</td>\n",
       "      <td>0.0</td>\n",
       "      <td>1.0</td>\n",
       "      <td>0.0</td>\n",
       "      <td>0.0</td>\n",
       "    </tr>\n",
       "    <tr>\n",
       "      <th>2</th>\n",
       "      <td>00000001_002.png</td>\n",
       "      <td>Cardiomegaly|Effusion</td>\n",
       "      <td>2</td>\n",
       "      <td>1</td>\n",
       "      <td>58</td>\n",
       "      <td>M</td>\n",
       "      <td>PA</td>\n",
       "      <td>2500</td>\n",
       "      <td>2048</td>\n",
       "      <td>0.168</td>\n",
       "      <td>...</td>\n",
       "      <td>0.0</td>\n",
       "      <td>1.0</td>\n",
       "      <td>0.0</td>\n",
       "      <td>0.0</td>\n",
       "      <td>0.0</td>\n",
       "      <td>0.0</td>\n",
       "      <td>0.0</td>\n",
       "      <td>0.0</td>\n",
       "      <td>0.0</td>\n",
       "      <td>0.0</td>\n",
       "    </tr>\n",
       "    <tr>\n",
       "      <th>3</th>\n",
       "      <td>00000002_000.png</td>\n",
       "      <td>No Finding</td>\n",
       "      <td>0</td>\n",
       "      <td>2</td>\n",
       "      <td>81</td>\n",
       "      <td>M</td>\n",
       "      <td>PA</td>\n",
       "      <td>2500</td>\n",
       "      <td>2048</td>\n",
       "      <td>0.171</td>\n",
       "      <td>...</td>\n",
       "      <td>0.0</td>\n",
       "      <td>0.0</td>\n",
       "      <td>0.0</td>\n",
       "      <td>0.0</td>\n",
       "      <td>0.0</td>\n",
       "      <td>0.0</td>\n",
       "      <td>0.0</td>\n",
       "      <td>0.0</td>\n",
       "      <td>0.0</td>\n",
       "      <td>0.0</td>\n",
       "    </tr>\n",
       "    <tr>\n",
       "      <th>4</th>\n",
       "      <td>00000003_000.png</td>\n",
       "      <td>Hernia</td>\n",
       "      <td>0</td>\n",
       "      <td>3</td>\n",
       "      <td>81</td>\n",
       "      <td>F</td>\n",
       "      <td>PA</td>\n",
       "      <td>2582</td>\n",
       "      <td>2991</td>\n",
       "      <td>0.143</td>\n",
       "      <td>...</td>\n",
       "      <td>0.0</td>\n",
       "      <td>0.0</td>\n",
       "      <td>0.0</td>\n",
       "      <td>0.0</td>\n",
       "      <td>0.0</td>\n",
       "      <td>0.0</td>\n",
       "      <td>0.0</td>\n",
       "      <td>0.0</td>\n",
       "      <td>0.0</td>\n",
       "      <td>0.0</td>\n",
       "    </tr>\n",
       "  </tbody>\n",
       "</table>\n",
       "<p>5 rows × 27 columns</p>\n",
       "</div>"
      ],
      "text/plain": [
       "        Image Index          Finding Labels  Follow-up #  Patient ID  \\\n",
       "0  00000001_000.png            Cardiomegaly            0           1   \n",
       "1  00000001_001.png  Cardiomegaly|Emphysema            1           1   \n",
       "2  00000001_002.png   Cardiomegaly|Effusion            2           1   \n",
       "3  00000002_000.png              No Finding            0           2   \n",
       "4  00000003_000.png                  Hernia            0           3   \n",
       "\n",
       "   Patient Age Patient Gender View Position  OriginalImageWidth  \\\n",
       "0           58              M            PA                2682   \n",
       "1           58              M            PA                2894   \n",
       "2           58              M            PA                2500   \n",
       "3           81              M            PA                2500   \n",
       "4           81              F            PA                2582   \n",
       "\n",
       "   OriginalImageHeight  OriginalImagePixelSpacingX  ...  Edema  Cardiomegaly  \\\n",
       "0                 2749                       0.143  ...    0.0           1.0   \n",
       "1                 2729                       0.143  ...    0.0           1.0   \n",
       "2                 2048                       0.168  ...    0.0           1.0   \n",
       "3                 2048                       0.171  ...    0.0           0.0   \n",
       "4                 2991                       0.143  ...    0.0           0.0   \n",
       "\n",
       "   Mass  Pneumothorax  Consolidation  Fibrosis  Pleural_Thickening  Emphysema  \\\n",
       "0   0.0           0.0            0.0       0.0                 0.0        0.0   \n",
       "1   0.0           0.0            0.0       0.0                 0.0        1.0   \n",
       "2   0.0           0.0            0.0       0.0                 0.0        0.0   \n",
       "3   0.0           0.0            0.0       0.0                 0.0        0.0   \n",
       "4   0.0           0.0            0.0       0.0                 0.0        0.0   \n",
       "\n",
       "   Nodule  Infiltration  \n",
       "0     0.0           0.0  \n",
       "1     0.0           0.0  \n",
       "2     0.0           0.0  \n",
       "3     0.0           0.0  \n",
       "4     0.0           0.0  \n",
       "\n",
       "[5 rows x 27 columns]"
      ]
     },
     "execution_count": 2,
     "metadata": {},
     "output_type": "execute_result"
    }
   ],
   "source": [
    "# Read the dataframe\n",
    "df = pd.read_csv('/kaggle/input/data/Data_Entry_2017.csv')\n",
    "\n",
    "# Rename the columns\n",
    "df = df.rename(columns={\n",
    "    \"OriginalImagePixelSpacing[x\": \"OriginalImagePixelSpacingX\",\n",
    "    \"y]\": \"OriginalImagePixelSpacingY\",\n",
    "    \"OriginalImage[Width\": \"OriginalImageWidth\",\n",
    "    \"Height]\": \"OriginalImageHeight\"\n",
    "})\n",
    "### Format the label by a one hot encoding\n",
    "# Get all the label\n",
    "unique_labels = set(itertools.chain.from_iterable(df[\"Finding Labels\"].apply(lambda x : x.split('|')).values)) \n",
    "\n",
    "# Initialize a empty matrix \n",
    "#one_hot_labels = pd.DataFrame(0.0, index=np.arange(len(df)), columns=unique_labels)\n",
    "one_hot_labels = pd.DataFrame(0.0, index=np.arange(len(df)), columns=list(unique_labels))\n",
    "\n",
    "# For each row, we get the associated labels and set a 1 to the new corresponding column label \n",
    "for index, row in df.iterrows():\n",
    "    labels = row[\"Finding Labels\"].split('|')\n",
    "    for label in labels:\n",
    "        one_hot_labels.iloc[index][label] = 1.0\n",
    "\n",
    "# Then, we concatane this new dataframe to our original data\n",
    "df = pd.concat([df, one_hot_labels], axis=1)\n",
    "df.head()"
   ]
  },
  {
   "cell_type": "code",
   "execution_count": 3,
   "id": "946a28ea",
   "metadata": {
    "execution": {
     "iopub.execute_input": "2024-01-07T19:05:12.050844Z",
     "iopub.status.busy": "2024-01-07T19:05:12.050132Z",
     "iopub.status.idle": "2024-01-07T19:05:12.102547Z",
     "shell.execute_reply": "2024-01-07T19:05:12.101474Z"
    },
    "papermill": {
     "duration": 0.064743,
     "end_time": "2024-01-07T19:05:12.104741",
     "exception": false,
     "start_time": "2024-01-07T19:05:12.039998",
     "status": "completed"
    },
    "tags": []
   },
   "outputs": [
    {
     "name": "stdout",
     "output_type": "stream",
     "text": [
      "Size of training set : 75120  - testing set: 37000\n"
     ]
    }
   ],
   "source": [
    "df_train, df_test = train_test_split(df, test_size = 0.33, random_state = 42)\n",
    "print(\"Size of training set :\", len(df_train), \" - testing set:\", len(df_test))"
   ]
  },
  {
   "cell_type": "code",
   "execution_count": 4,
   "id": "6c3e4087",
   "metadata": {
    "execution": {
     "iopub.execute_input": "2024-01-07T19:05:12.124077Z",
     "iopub.status.busy": "2024-01-07T19:05:12.123727Z",
     "iopub.status.idle": "2024-01-07T19:05:12.153665Z",
     "shell.execute_reply": "2024-01-07T19:05:12.152695Z"
    },
    "papermill": {
     "duration": 0.042067,
     "end_time": "2024-01-07T19:05:12.155700",
     "exception": false,
     "start_time": "2024-01-07T19:05:12.113633",
     "status": "completed"
    },
    "tags": []
   },
   "outputs": [
    {
     "name": "stdout",
     "output_type": "stream",
     "text": [
      "9769\n"
     ]
    }
   ],
   "source": [
    "patient_train = set(df_train[\"Patient ID\"].values)\n",
    "patient_test  = set(df_test[\"Patient ID\"].values)\n",
    "\n",
    "leakage_patient = patient_train.intersection(patient_test)\n",
    "print(len(leakage_patient))"
   ]
  },
  {
   "cell_type": "code",
   "execution_count": 5,
   "id": "de3789b8",
   "metadata": {
    "execution": {
     "iopub.execute_input": "2024-01-07T19:05:12.174958Z",
     "iopub.status.busy": "2024-01-07T19:05:12.174591Z",
     "iopub.status.idle": "2024-01-07T19:05:12.199316Z",
     "shell.execute_reply": "2024-01-07T19:05:12.198257Z"
    },
    "papermill": {
     "duration": 0.036857,
     "end_time": "2024-01-07T19:05:12.201466",
     "exception": false,
     "start_time": "2024-01-07T19:05:12.164609",
     "status": "completed"
    },
    "tags": []
   },
   "outputs": [
    {
     "name": "stdout",
     "output_type": "stream",
     "text": [
      "Train\n",
      "0.2672790202342918\n",
      "75120\n",
      "20078\n",
      "\n",
      "Test\n",
      "0.18627027027027027\n",
      "37000\n",
      "6892\n"
     ]
    }
   ],
   "source": [
    "# How much this represent based on our set\n",
    "train_without_leakage = df_train[~df_train[\"Patient ID\"].isin(leakage_patient)]\n",
    "\n",
    "print(\"Train\")\n",
    "print(len(train_without_leakage) / len(df_train))\n",
    "print(len(df_train))\n",
    "print(len(train_without_leakage))\n",
    "\n",
    "print()\n",
    "print(\"Test\")\n",
    "test_without_leakage = df_test[~df_test[\"Patient ID\"].isin(leakage_patient)]\n",
    "print(len(test_without_leakage) / len(df_test))\n",
    "print(len(df_test))\n",
    "print(len(test_without_leakage))"
   ]
  },
  {
   "cell_type": "code",
   "execution_count": 6,
   "id": "63eeae3d",
   "metadata": {
    "execution": {
     "iopub.execute_input": "2024-01-07T19:05:12.221133Z",
     "iopub.status.busy": "2024-01-07T19:05:12.220802Z",
     "iopub.status.idle": "2024-01-07T19:05:12.225800Z",
     "shell.execute_reply": "2024-01-07T19:05:12.224850Z"
    },
    "papermill": {
     "duration": 0.017141,
     "end_time": "2024-01-07T19:05:12.227687",
     "exception": false,
     "start_time": "2024-01-07T19:05:12.210546",
     "status": "completed"
    },
    "tags": []
   },
   "outputs": [],
   "source": [
    "# Remvove leakage in the test\n",
    "df_test = test_without_leakage"
   ]
  },
  {
   "cell_type": "code",
   "execution_count": 7,
   "id": "8994b339",
   "metadata": {
    "execution": {
     "iopub.execute_input": "2024-01-07T19:05:12.247422Z",
     "iopub.status.busy": "2024-01-07T19:05:12.246775Z",
     "iopub.status.idle": "2024-01-07T19:05:12.280483Z",
     "shell.execute_reply": "2024-01-07T19:05:12.279703Z"
    },
    "papermill": {
     "duration": 0.046127,
     "end_time": "2024-01-07T19:05:12.282815",
     "exception": false,
     "start_time": "2024-01-07T19:05:12.236688",
     "status": "completed"
    },
    "tags": []
   },
   "outputs": [],
   "source": [
    "DATA_DIR = \"/kaggle/input/data/\"\n",
    "NB_LABELS = len(unique_labels)\n",
    "BATCH_SIZE = 32\n",
    "\n",
    "X_train, X_valid = train_test_split(df_train, test_size = 0.2, random_state = 42)"
   ]
  },
  {
   "cell_type": "code",
   "execution_count": 8,
   "id": "16d2152b",
   "metadata": {
    "execution": {
     "iopub.execute_input": "2024-01-07T19:05:12.302572Z",
     "iopub.status.busy": "2024-01-07T19:05:12.302235Z",
     "iopub.status.idle": "2024-01-07T19:05:12.316522Z",
     "shell.execute_reply": "2024-01-07T19:05:12.315636Z"
    },
    "papermill": {
     "duration": 0.026458,
     "end_time": "2024-01-07T19:05:12.318490",
     "exception": false,
     "start_time": "2024-01-07T19:05:12.292032",
     "status": "completed"
    },
    "tags": []
   },
   "outputs": [],
   "source": [
    "class ChestImagesDataset(tf.keras.utils.Sequence):\n",
    "    def __init__(self, df, input_folder, batch_size=32, transform=None, training=True, shuffle=True):\n",
    "        self.df = df\n",
    "        self.input_folder = input_folder\n",
    "        self.batch_size = batch_size\n",
    "        self.transform = transform\n",
    "        self.training = training\n",
    "        self.shuffle = shuffle\n",
    "        \n",
    "    def on_epoch_end(self):\n",
    "        if self.shuffle:\n",
    "            self.df = self.df.sample(frac=1).reset_index(drop=True)\n",
    "    \n",
    "    def __len__(self):\n",
    "        return np.ceil(len(self.df) / self.batch_size).astype(int)\n",
    "    \n",
    "    def __getitem__(self, index):\n",
    "        batch = self.df[index * self.batch_size: (index + 1) * self.batch_size]\n",
    "        \n",
    "        images = []\n",
    "        \n",
    "        for filename in batch[\"Image Index\"]:\n",
    "            path = glob.glob(self.input_folder + \"*/*/\" + filename)[0]\n",
    "            image = Image.open(path).convert('RGB')\n",
    "            image = np.array(image)\n",
    "            \n",
    "            image = tf.image.resize(image, size=(224, 224))\n",
    "            image = tf.cast(image, dtype=tf.float32)\n",
    "            \n",
    "            images.append(image)\n",
    "        \n",
    "        images = np.array(images)\n",
    "        \n",
    "        # Normalize the images\n",
    "        #images = images / 255.0  # assuming the pixel values are in the range [0, 255]\n",
    "        \n",
    "        if self.training:\n",
    "            #labels = np.array(batch[unique_labels].values)\n",
    "            labels = np.array(batch[list(unique_labels)].values)\n",
    "            # Add mean to the images\n",
    "            images = images - np.mean(images, axis=(0, 1, 2), keepdims=True)\n",
    "            \n",
    "            return images, labels\n",
    "        else:\n",
    "            return images\n",
    "\n",
    "# Load the training data and the validation \n",
    "train_generator = ChestImagesDataset(X_train, DATA_DIR, batch_size=BATCH_SIZE, transform=None, shuffle=True)\n",
    "valid_generator = ChestImagesDataset(X_valid, DATA_DIR, batch_size=BATCH_SIZE, transform=None, shuffle=True)\n"
   ]
  },
  {
   "cell_type": "code",
   "execution_count": 9,
   "id": "8556cd53",
   "metadata": {
    "execution": {
     "iopub.execute_input": "2024-01-07T19:05:12.338075Z",
     "iopub.status.busy": "2024-01-07T19:05:12.337731Z",
     "iopub.status.idle": "2024-01-07T19:05:12.347728Z",
     "shell.execute_reply": "2024-01-07T19:05:12.346739Z"
    },
    "papermill": {
     "duration": 0.022022,
     "end_time": "2024-01-07T19:05:12.349638",
     "exception": false,
     "start_time": "2024-01-07T19:05:12.327616",
     "status": "completed"
    },
    "tags": []
   },
   "outputs": [],
   "source": [
    "class MultiLabelCrossEntropy:\n",
    "    \"\"\"\n",
    "    Weight Cross Entropy Loss.\n",
    "    \n",
    "    For each class we will found two weights corresponding to the positive and negative frequency of our sample data.\n",
    "    These weights will manage the way we update our network. And this has for objectives to manage the unbalanced class issue.\n",
    "    \"\"\"\n",
    "        \n",
    "    def __init__(self, labels : DataFrame, epsilon = 1e-7):\n",
    "        \n",
    "        self.epsilon = epsilon\n",
    "        \n",
    "        # Get the size of the data\n",
    "        self.N = labels.shape[0]\n",
    "        \n",
    "        # Get the frequency occurence for each class\n",
    "        self.freq_pos = np.sum(labels == 1, axis=0) / self.N\n",
    "        self.freq_neg = np.sum(labels == 0, axis=0) / self.N\n",
    "        \n",
    "        # Set the loss weights for each labels \n",
    "        self.pos_weights = self.freq_neg\n",
    "        self.neg_weights = self.freq_pos\n",
    "        \n",
    "    def contribution(self):\n",
    "        \"\"\"\n",
    "        Get the weights' contribution for each labels.\n",
    "        \n",
    "        Returns :\n",
    "            - double : Positive contribution\n",
    "            - double : Negative contribution\n",
    "        \"\"\"\n",
    "        return self.freq_pos * self.pos_weights, self.freq_neg * self.neg_weights\n",
    "        \n",
    "        \n",
    "    def loss(self, y_true, y_pred):\n",
    "        \"\"\"\n",
    "        Return weighted loss value. \n",
    "        \"\"\"\n",
    "        # Initialize loss to zero\n",
    "        loss = 0.0\n",
    "        \n",
    "        for i in range(len(self.pos_weights)):\n",
    "            loss += (-1 * K.mean(\n",
    "                        self.pos_weights[i] * y_true[:,i] * K.log(y_pred[:,i] + self.epsilon))\n",
    "                    ) + (-1 * K.mean(\n",
    "                        self.neg_weights[i] * (1 - y_true[:,i]) * K.log(1 - y_pred[:,i] + self.epsilon))\n",
    "                    )\n",
    "        return loss\n",
    "        "
   ]
  },
  {
   "cell_type": "code",
   "execution_count": 10,
   "id": "72290a8d",
   "metadata": {
    "execution": {
     "iopub.execute_input": "2024-01-07T19:05:12.369502Z",
     "iopub.status.busy": "2024-01-07T19:05:12.368865Z",
     "iopub.status.idle": "2024-01-07T19:05:12.381298Z",
     "shell.execute_reply": "2024-01-07T19:05:12.380103Z"
    },
    "papermill": {
     "duration": 0.024756,
     "end_time": "2024-01-07T19:05:12.383606",
     "exception": false,
     "start_time": "2024-01-07T19:05:12.358850",
     "status": "completed"
    },
    "tags": []
   },
   "outputs": [],
   "source": [
    "cross_entropy_loss = MultiLabelCrossEntropy(X_train[list(unique_labels)])\n",
    "pos_contribution, neg_contribution = cross_entropy_loss.contribution()\n"
   ]
  },
  {
   "cell_type": "code",
   "execution_count": 11,
   "id": "8eedff59",
   "metadata": {
    "execution": {
     "iopub.execute_input": "2024-01-07T19:05:12.404219Z",
     "iopub.status.busy": "2024-01-07T19:05:12.403519Z",
     "iopub.status.idle": "2024-01-07T19:05:25.993966Z",
     "shell.execute_reply": "2024-01-07T19:05:25.992886Z"
    },
    "papermill": {
     "duration": 13.603289,
     "end_time": "2024-01-07T19:05:25.996578",
     "exception": false,
     "start_time": "2024-01-07T19:05:12.393289",
     "status": "completed"
    },
    "tags": []
   },
   "outputs": [
    {
     "name": "stdout",
     "output_type": "stream",
     "text": [
      "Collecting vit-keras\r\n",
      "  Downloading vit_keras-0.1.2-py3-none-any.whl (24 kB)\r\n",
      "Requirement already satisfied: scipy in /opt/conda/lib/python3.10/site-packages (from vit-keras) (1.11.4)\r\n",
      "Collecting validators (from vit-keras)\r\n",
      "  Obtaining dependency information for validators from https://files.pythonhosted.org/packages/3a/0c/785d317eea99c3739821718f118c70537639aa43f96bfa1d83a71f68eaf6/validators-0.22.0-py3-none-any.whl.metadata\r\n",
      "  Downloading validators-0.22.0-py3-none-any.whl.metadata (4.7 kB)\r\n",
      "Requirement already satisfied: numpy<1.28.0,>=1.21.6 in /opt/conda/lib/python3.10/site-packages (from scipy->vit-keras) (1.24.3)\r\n",
      "Downloading validators-0.22.0-py3-none-any.whl (26 kB)\r\n",
      "Installing collected packages: validators, vit-keras\r\n",
      "Successfully installed validators-0.22.0 vit-keras-0.1.2\r\n"
     ]
    }
   ],
   "source": [
    "!pip install vit-keras\n"
   ]
  },
  {
   "cell_type": "code",
   "execution_count": 12,
   "id": "6faa9324",
   "metadata": {
    "execution": {
     "iopub.execute_input": "2024-01-07T19:05:26.017614Z",
     "iopub.status.busy": "2024-01-07T19:05:26.017234Z",
     "iopub.status.idle": "2024-01-07T19:05:32.894162Z",
     "shell.execute_reply": "2024-01-07T19:05:32.893312Z"
    },
    "papermill": {
     "duration": 6.890287,
     "end_time": "2024-01-07T19:05:32.896499",
     "exception": false,
     "start_time": "2024-01-07T19:05:26.006212",
     "status": "completed"
    },
    "tags": []
   },
   "outputs": [
    {
     "name": "stdout",
     "output_type": "stream",
     "text": [
      "Downloading data from https://github.com/faustomorales/vit-keras/releases/download/dl/ViT-B_16_imagenet21k+imagenet2012.npz\n",
      "347502902/347502902 [==============================] - 1s 0us/step\n"
     ]
    },
    {
     "name": "stderr",
     "output_type": "stream",
     "text": [
      "/opt/conda/lib/python3.10/site-packages/vit_keras/utils.py:81: UserWarning: Resizing position embeddings from 24, 24 to 14, 14\n",
      "  warnings.warn(\n"
     ]
    }
   ],
   "source": [
    "import tensorflow_addons as tfa\n",
    "from vit_keras import vit\n",
    "img_size=224\n",
    "vit_model = vit.vit_b16(\n",
    "        image_size = img_size,\n",
    "        activation = 'softmax',\n",
    "        pretrained = True,    \n",
    "        include_top = False,\n",
    "        pretrained_top = False,\n",
    "        classes = 14)"
   ]
  },
  {
   "cell_type": "code",
   "execution_count": null,
   "id": "fb84debf",
   "metadata": {
    "papermill": {
     "duration": 0.012578,
     "end_time": "2024-01-07T19:05:32.921443",
     "exception": false,
     "start_time": "2024-01-07T19:05:32.908865",
     "status": "completed"
    },
    "tags": []
   },
   "outputs": [],
   "source": []
  },
  {
   "cell_type": "code",
   "execution_count": null,
   "id": "48061212",
   "metadata": {
    "papermill": {
     "duration": 0.011593,
     "end_time": "2024-01-07T19:05:32.944860",
     "exception": false,
     "start_time": "2024-01-07T19:05:32.933267",
     "status": "completed"
    },
    "tags": []
   },
   "outputs": [],
   "source": []
  },
  {
   "cell_type": "code",
   "execution_count": null,
   "id": "c164b511",
   "metadata": {
    "papermill": {
     "duration": 0.011642,
     "end_time": "2024-01-07T19:05:32.968503",
     "exception": false,
     "start_time": "2024-01-07T19:05:32.956861",
     "status": "completed"
    },
    "tags": []
   },
   "outputs": [],
   "source": []
  },
  {
   "cell_type": "code",
   "execution_count": null,
   "id": "e4226902",
   "metadata": {
    "papermill": {
     "duration": 0.011597,
     "end_time": "2024-01-07T19:05:32.991857",
     "exception": false,
     "start_time": "2024-01-07T19:05:32.980260",
     "status": "completed"
    },
    "tags": []
   },
   "outputs": [],
   "source": []
  },
  {
   "cell_type": "code",
   "execution_count": null,
   "id": "c44a0f60",
   "metadata": {
    "papermill": {
     "duration": 0.011521,
     "end_time": "2024-01-07T19:05:33.015063",
     "exception": false,
     "start_time": "2024-01-07T19:05:33.003542",
     "status": "completed"
    },
    "tags": []
   },
   "outputs": [],
   "source": []
  },
  {
   "cell_type": "code",
   "execution_count": 13,
   "id": "b071fd7e",
   "metadata": {
    "execution": {
     "iopub.execute_input": "2024-01-07T19:05:33.041588Z",
     "iopub.status.busy": "2024-01-07T19:05:33.040666Z",
     "iopub.status.idle": "2024-01-07T19:05:38.399206Z",
     "shell.execute_reply": "2024-01-07T19:05:38.398242Z"
    },
    "papermill": {
     "duration": 5.373689,
     "end_time": "2024-01-07T19:05:38.401424",
     "exception": false,
     "start_time": "2024-01-07T19:05:33.027735",
     "status": "completed"
    },
    "tags": []
   },
   "outputs": [
    {
     "name": "stdout",
     "output_type": "stream",
     "text": [
      "Model: \"vision_transformer\"\n",
      "_________________________________________________________________\n",
      " Layer (type)                Output Shape              Param #   \n",
      "=================================================================\n",
      " vit-b16 (Functional)        (None, 768)               85798656  \n",
      "                                                                 \n",
      " flatten (Flatten)           (None, 768)               0         \n",
      "                                                                 \n",
      " batch_normalization (Batch  (None, 768)               3072      \n",
      " Normalization)                                                  \n",
      "                                                                 \n",
      " dense (Dense)               (None, 256)               196864    \n",
      "                                                                 \n",
      " batch_normalization_1 (Bat  (None, 256)               1024      \n",
      " chNormalization)                                                \n",
      "                                                                 \n",
      " dense_1 (Dense)             (None, 128)               32896     \n",
      "                                                                 \n",
      " batch_normalization_2 (Bat  (None, 128)               512       \n",
      " chNormalization)                                                \n",
      "                                                                 \n",
      " dense_2 (Dense)             (None, 64)                8256      \n",
      "                                                                 \n",
      " dense_3 (Dense)             (None, 15)                975       \n",
      "                                                                 \n",
      "=================================================================\n",
      "Total params: 86042255 (328.23 MB)\n",
      "Trainable params: 86039951 (328.22 MB)\n",
      "Non-trainable params: 2304 (9.00 KB)\n",
      "_________________________________________________________________\n"
     ]
    }
   ],
   "source": [
    "def create_model():\n",
    "    vit_model = vit.vit_b16(\n",
    "        image_size=img_size,\n",
    "        activation='softmax',\n",
    "        pretrained=True,\n",
    "        include_top=False,\n",
    "        pretrained_top=False,\n",
    "        classes=14\n",
    "    )\n",
    "    model = tf.keras.Sequential([\n",
    "        vit_model,\n",
    "        tf.keras.layers.Flatten(),\n",
    "        tf.keras.layers.BatchNormalization(),\n",
    "        tf.keras.layers.Dense(256, activation=tfa.activations.gelu),\n",
    "        tf.keras.layers.BatchNormalization(),\n",
    "        tf.keras.layers.Dense(128, activation=tfa.activations.gelu),\n",
    "        tf.keras.layers.BatchNormalization(),\n",
    "        tf.keras.layers.Dense(64, activation=tfa.activations.gelu),\n",
    "        tf.keras.layers.Dense(15, activation='softmax')  # Adjust the number of units based on your specific needs\n",
    "    ],\n",
    "    name='vision_transformer')\n",
    "     \n",
    "    # Compile the model\n",
    "    model.compile(\n",
    "        optimizer=tf.keras.optimizers.Adam(),\n",
    "        loss='categorical_crossentropy', \n",
    "        metrics=['accuracy']\n",
    "    )\n",
    "    \n",
    "    return model, vit_model\n",
    "    \n",
    "\n",
    "# Create the model\n",
    "model, vit_model = create_model()\n",
    "\n",
    "# Print the summary\n",
    "model.summary()\n"
   ]
  },
  {
   "cell_type": "code",
   "execution_count": 14,
   "id": "a2a12e79",
   "metadata": {
    "execution": {
     "iopub.execute_input": "2024-01-07T19:05:38.431379Z",
     "iopub.status.busy": "2024-01-07T19:05:38.431047Z",
     "iopub.status.idle": "2024-01-07T19:19:28.907500Z",
     "shell.execute_reply": "2024-01-07T19:19:28.906551Z"
    },
    "papermill": {
     "duration": 830.494323,
     "end_time": "2024-01-07T19:19:28.909915",
     "exception": false,
     "start_time": "2024-01-07T19:05:38.415592",
     "status": "completed"
    },
    "tags": []
   },
   "outputs": [
    {
     "name": "stdout",
     "output_type": "stream",
     "text": [
      "4/4 [==============================] - 804s 251s/step - loss: 3.6710 - accuracy: 0.1875 - val_loss: 3.7301 - val_accuracy: 0.0156\n"
     ]
    }
   ],
   "source": [
    "history = model.fit(train_generator, \n",
    "                    validation_data=valid_generator, \n",
    "                    epochs=1, \n",
    "                    steps_per_epoch=128 // BATCH_SIZE, \n",
    "                    batch_size=BATCH_SIZE)\n"
   ]
  },
  {
   "cell_type": "code",
   "execution_count": 15,
   "id": "89e5a756",
   "metadata": {
    "execution": {
     "iopub.execute_input": "2024-01-07T19:19:28.941600Z",
     "iopub.status.busy": "2024-01-07T19:19:28.940970Z",
     "iopub.status.idle": "2024-01-07T22:44:21.231169Z",
     "shell.execute_reply": "2024-01-07T22:44:21.228975Z"
    },
    "papermill": {
     "duration": 12292.837689,
     "end_time": "2024-01-07T22:44:21.762573",
     "exception": false,
     "start_time": "2024-01-07T19:19:28.924884",
     "status": "completed"
    },
    "tags": []
   },
   "outputs": [
    {
     "name": "stdout",
     "output_type": "stream",
     "text": [
      "Epoch 1/3\n",
      "1878/1878 [==============================] - 4431s 2s/step - loss: 25.8312 - accuracy: 0.3751 - val_loss: 83.9433 - val_accuracy: 0.4558\n",
      "Epoch 2/3\n",
      "1878/1878 [==============================] - 3821s 2s/step - loss: 139.0297 - accuracy: 0.2989 - val_loss: 365.7466 - val_accuracy: 0.0879\n",
      "Epoch 3/3\n",
      "1878/1878 [==============================] - 4039s 2s/step - loss: 322.2578 - accuracy: 0.2976 - val_loss: 335.9468 - val_accuracy: 0.2463\n"
     ]
    }
   ],
   "source": [
    "history = model.fit(train_generator, validation_data=valid_generator, epochs = 3, batch_size = BATCH_SIZE) "
   ]
  },
  {
   "cell_type": "code",
   "execution_count": 16,
   "id": "15d98ab4",
   "metadata": {
    "execution": {
     "iopub.execute_input": "2024-01-07T22:44:22.702576Z",
     "iopub.status.busy": "2024-01-07T22:44:22.702141Z",
     "iopub.status.idle": "2024-01-07T22:44:58.729615Z",
     "shell.execute_reply": "2024-01-07T22:44:58.728808Z"
    },
    "papermill": {
     "duration": 36.499546,
     "end_time": "2024-01-07T22:44:58.732014",
     "exception": false,
     "start_time": "2024-01-07T22:44:22.232468",
     "status": "completed"
    },
    "tags": []
   },
   "outputs": [],
   "source": [
    "# Save the model \n",
    "model.save(\"model\")"
   ]
  },
  {
   "cell_type": "code",
   "execution_count": 17,
   "id": "2f55ff0e",
   "metadata": {
    "execution": {
     "iopub.execute_input": "2024-01-07T22:44:59.678222Z",
     "iopub.status.busy": "2024-01-07T22:44:59.677841Z",
     "iopub.status.idle": "2024-01-07T22:45:00.045403Z",
     "shell.execute_reply": "2024-01-07T22:45:00.044564Z"
    },
    "papermill": {
     "duration": 0.843553,
     "end_time": "2024-01-07T22:45:00.047599",
     "exception": false,
     "start_time": "2024-01-07T22:44:59.204046",
     "status": "completed"
    },
    "tags": []
   },
   "outputs": [
    {
     "data": {
      "image/png": "[encoded data removed]",
      "text/plain": [
       "<Figure size 640x480 with 1 Axes>"
      ]
     },
     "metadata": {},
     "output_type": "display_data"
    }
   ],
   "source": [
    "plt.plot(history.history['loss'])\n",
    "plt.plot(history.history['val_loss'])\n",
    "\n",
    "plt.title('model loss')\n",
    "plt.ylabel('loss')\n",
    "plt.xlabel('epoch')\n",
    "plt.legend(['train', 'test'], loc='upper left')\n",
    "plt.show()"
   ]
  },
  {
   "cell_type": "code",
   "execution_count": 18,
   "id": "9d80f281",
   "metadata": {
    "execution": {
     "iopub.execute_input": "2024-01-07T22:45:00.991263Z",
     "iopub.status.busy": "2024-01-07T22:45:00.990884Z",
     "iopub.status.idle": "2024-01-07T22:45:01.232707Z",
     "shell.execute_reply": "2024-01-07T22:45:01.231753Z"
    },
    "papermill": {
     "duration": 0.717505,
     "end_time": "2024-01-07T22:45:01.235005",
     "exception": false,
     "start_time": "2024-01-07T22:45:00.517500",
     "status": "completed"
    },
    "tags": []
   },
   "outputs": [
    {
     "data": {
      "image/png": "[encoded data removed]",
      "text/plain": [
       "<Figure size 640x480 with 1 Axes>"
      ]
     },
     "metadata": {},
     "output_type": "display_data"
    }
   ],
   "source": [
    "plt.plot(history.history['accuracy'])\n",
    "plt.plot(history.history['val_accuracy'])\n",
    "\n",
    "plt.title('model accuracy')\n",
    "plt.ylabel('accuracy')\n",
    "plt.xlabel('epoch')\n",
    "plt.legend(['train', 'test'], loc='upper left')\n",
    "plt.show()"
   ]
  },
  {
   "cell_type": "code",
   "execution_count": 19,
   "id": "0c05f995",
   "metadata": {
    "execution": {
     "iopub.execute_input": "2024-01-07T22:45:02.232870Z",
     "iopub.status.busy": "2024-01-07T22:45:02.231951Z",
     "iopub.status.idle": "2024-01-07T22:45:02.996056Z",
     "shell.execute_reply": "2024-01-07T22:45:02.994811Z"
    },
    "papermill": {
     "duration": 1.23159,
     "end_time": "2024-01-07T22:45:02.997631",
     "exception": true,
     "start_time": "2024-01-07T22:45:01.766041",
     "status": "failed"
    },
    "tags": []
   },
   "outputs": [
    {
     "ename": "KeyError",
     "evalue": "'auc'",
     "output_type": "error",
     "traceback": [
      "\u001b[0;31m---------------------------------------------------------------------------\u001b[0m",
      "\u001b[0;31mKeyError\u001b[0m                                  Traceback (most recent call last)",
      "Cell \u001b[0;32mIn[19], line 1\u001b[0m\n\u001b[0;32m----> 1\u001b[0m plt\u001b[38;5;241m.\u001b[39mplot(\u001b[43mhistory\u001b[49m\u001b[38;5;241;43m.\u001b[39;49m\u001b[43mhistory\u001b[49m\u001b[43m[\u001b[49m\u001b[38;5;124;43m'\u001b[39;49m\u001b[38;5;124;43mauc\u001b[39;49m\u001b[38;5;124;43m'\u001b[39;49m\u001b[43m]\u001b[49m)\n\u001b[1;32m      2\u001b[0m plt\u001b[38;5;241m.\u001b[39mplot(history\u001b[38;5;241m.\u001b[39mhistory[\u001b[38;5;124m'\u001b[39m\u001b[38;5;124mval_auc\u001b[39m\u001b[38;5;124m'\u001b[39m])\n\u001b[1;32m      4\u001b[0m plt\u001b[38;5;241m.\u001b[39mtitle(\u001b[38;5;124m'\u001b[39m\u001b[38;5;124mmodel auc\u001b[39m\u001b[38;5;124m'\u001b[39m)\n",
      "\u001b[0;31mKeyError\u001b[0m: 'auc'"
     ]
    }
   ],
   "source": [
    "plt.plot(history.history['auc'])\n",
    "plt.plot(history.history['val_auc'])\n",
    "\n",
    "plt.title('model auc')\n",
    "plt.ylabel('auc')\n",
    "plt.xlabel('epoch')\n",
    "plt.legend(['train', 'test'], loc='upper left')\n",
    "plt.show()"
   ]
  },
  {
   "cell_type": "code",
   "execution_count": null,
   "id": "32245c49",
   "metadata": {
    "execution": {
     "iopub.status.busy": "2024-01-07T18:59:07.807498Z",
     "iopub.status.idle": "2024-01-07T18:59:07.807857Z",
     "shell.execute_reply": "2024-01-07T18:59:07.807701Z",
     "shell.execute_reply.started": "2024-01-07T18:59:07.807684Z"
    },
    "papermill": {
     "duration": null,
     "end_time": null,
     "exception": null,
     "start_time": null,
     "status": "pending"
    },
    "tags": []
   },
   "outputs": [],
   "source": [
    "test_generator = ChestImagesDataset(df_test, DATA_DIR, batch_size = BATCH_SIZE, transform = None, training = False, shuffle = False)\n",
    "\n",
    "predictions = model.predict(test_generator)"
   ]
  },
  {
   "cell_type": "code",
   "execution_count": null,
   "id": "f8a277e8",
   "metadata": {
    "execution": {
     "iopub.status.busy": "2024-01-07T18:59:07.809668Z",
     "iopub.status.idle": "2024-01-07T18:59:07.810128Z",
     "shell.execute_reply": "2024-01-07T18:59:07.809914Z",
     "shell.execute_reply.started": "2024-01-07T18:59:07.809893Z"
    },
    "papermill": {
     "duration": null,
     "end_time": null,
     "exception": null,
     "start_time": null,
     "status": "pending"
    },
    "tags": []
   },
   "outputs": [],
   "source": [
    "roc_auc_score(df_test[unique_labels].values, predictions)"
   ]
  },
  {
   "cell_type": "code",
   "execution_count": null,
   "id": "b02eaf93",
   "metadata": {
    "execution": {
     "iopub.status.busy": "2024-01-07T18:59:07.811837Z",
     "iopub.status.idle": "2024-01-07T18:59:07.812597Z",
     "shell.execute_reply": "2024-01-07T18:59:07.812338Z",
     "shell.execute_reply.started": "2024-01-07T18:59:07.812315Z"
    },
    "papermill": {
     "duration": null,
     "end_time": null,
     "exception": null,
     "start_time": null,
     "status": "pending"
    },
    "tags": []
   },
   "outputs": [],
   "source": [
    "## Metrics\n",
    "\n",
    "def get_roc_curve(labels, predicted_vals, real_vals):\n",
    "    auc_roc_vals = []\n",
    "    for i in range(len(labels)):\n",
    "        try:\n",
    "            gt = real_vals[:, i]\n",
    "            pred = predicted_vals[:, i]\n",
    "            auc_roc = roc_auc_score(gt, pred)\n",
    "            auc_roc_vals.append(auc_roc)\n",
    "            fpr_rf, tpr_rf, _ = roc_curve(gt, pred)\n",
    "            plt.figure(1, figsize=(10, 10))\n",
    "            plt.plot([0, 1], [0, 1], 'k--')\n",
    "            plt.plot(fpr_rf, tpr_rf,\n",
    "                     label=labels[i] + \" (\" + str(round(auc_roc, 3)) + \")\")\n",
    "            plt.xlabel('False positive rate')\n",
    "            plt.ylabel('True positive rate')\n",
    "            plt.title('ROC curve')\n",
    "            plt.legend(loc='best')\n",
    "        except:\n",
    "            print(\n",
    "                f\"Error in generating ROC curve for {labels[i]}. \"\n",
    "                f\"Dataset lacks enough examples.\"\n",
    "            )\n",
    "    plt.show()\n",
    "    return auc_roc_vals\n",
    "\n",
    "\n",
    "get_roc_curve(list(unique_labels), predictions, df_test[unique_labels].values)"
   ]
  },
  {
   "cell_type": "code",
   "execution_count": null,
   "id": "717c487e",
   "metadata": {
    "execution": {
     "iopub.status.busy": "2024-01-07T18:59:07.814058Z",
     "iopub.status.idle": "2024-01-07T18:59:07.814555Z",
     "shell.execute_reply": "2024-01-07T18:59:07.814317Z",
     "shell.execute_reply.started": "2024-01-07T18:59:07.814294Z"
    },
    "papermill": {
     "duration": null,
     "end_time": null,
     "exception": null,
     "start_time": null,
     "status": "pending"
    },
    "tags": []
   },
   "outputs": [],
   "source": [
    "# Grad-CAM\n",
    "class GradCAM:\n",
    "  def __init__(self, model, classIdx, baseModel = None, layerName = None):\n",
    "    # store the model, the class index used to measure the class\n",
    "    # activation map, and the layer to be used when visualizing\n",
    "    # the class activation map\n",
    "    if baseModel:\n",
    "      self.model = model.get_layer(baseModel)\n",
    "    else:\n",
    "      self.model = model\n",
    "    self.classIdx = classIdx\n",
    "    self.layerName = layerName\n",
    "    # if the layer name is None, attempt to automatically find\n",
    "    # the target output layer\n",
    "    if self.layerName is None:\n",
    "      self.layerName = self.find_target_layer()\n",
    "\n",
    "  def find_target_layer(self):\n",
    "    # attempt to find the final convolutional layer in the network\n",
    "    # by looping over the layers of the network in reverse order\n",
    "    for layer in reversed(self.model.layers):\n",
    "        # check to see if the layer has a 4D output\n",
    "        if len(layer.output_shape) == 4:\n",
    "            return layer.name\n",
    "    # otherwise, we could not find a 4D layer so the GradCAM\n",
    "    # algorithm cannot be applied\n",
    "    raise ValueError(\"Could not find 4D layer. Cannot apply GradCAM.\")\n",
    "\n",
    "  def compute_heatmap(self, image, eps=1e-8):\n",
    "    # construct our gradient model by supplying (1) the inputs\n",
    "    # to our pre-trained model, (2) the output of the (presumably)\n",
    "    # final 4D layer in the network, and (3) the output of the\n",
    "    # softmax activations from the model\n",
    "    gradModel = keras.Model(\n",
    "      inputs=[self.model.inputs],\n",
    "      outputs=[self.model.get_layer(self.layerName).output,\n",
    "        self.model.output])\n",
    "\n",
    "    # record operations for automatic differentiation\n",
    "    with tf.GradientTape() as tape:\n",
    "      # cast the image tensor to a float-32 data type, pass the\n",
    "      # image through the gradient model, and grab the loss\n",
    "      # associated with the specific class index\n",
    "      inputs = tf.cast(image, tf.float32)\n",
    "      (convOutputs, predictions) = gradModel(inputs)\n",
    "      loss = predictions[:, self.classIdx]\n",
    "    # use automatic differentiation to compute the gradients\n",
    "    grads = tape.gradient(loss, convOutputs)\n",
    "\n",
    "    # compute the guided gradients\n",
    "    castConvOutputs = tf.cast(convOutputs > 0, \"float32\")\n",
    "    castGrads = tf.cast(grads > 0, \"float32\")\n",
    "    guidedGrads = castConvOutputs * castGrads * grads\n",
    "    # the convolution and guided gradients have a batch dimension\n",
    "    # (which we don't need) so let's grab the volume itself and\n",
    "    # discard the batch\n",
    "    convOutputs = convOutputs[0]\n",
    "    guidedGrads = guidedGrads[0]\n",
    "\n",
    "    # compute the average of the gradient values, and using them\n",
    "    # as weights, compute the ponderation of the filters with\n",
    "    # respect to the weights\n",
    "    weights = tf.reduce_mean(guidedGrads, axis=(0, 1))\n",
    "    cam = tf.reduce_sum(tf.multiply(weights, convOutputs), axis=-1)\n",
    "\n",
    "    # grab the spatial dimensions of the input image and resize\n",
    "    # the output class activation map to match the input image\n",
    "    # dimensions\n",
    "    (w, h) = (image.shape[2], image.shape[1])\n",
    "    heatmap = cv2.resize(cam.numpy(), (w, h))\n",
    "    # normalize the heatmap such that all values lie in the range\n",
    "    # [0, 1], scale the resulting values to the range [0, 255],\n",
    "    # and then convert to an unsigned 8-bit integer\n",
    "    numer = heatmap - np.min(heatmap)\n",
    "    denom = (heatmap.max() - heatmap.min()) + eps\n",
    "    heatmap = numer / denom\n",
    "    heatmap = (heatmap * 255).astype(\"uint8\")\n",
    "    # return the resulting heatmap to the calling function\n",
    "    return heatmap\n",
    "\n",
    "  def overlay_heatmap(self, heatmap, image, alpha=0.5, colormap=cv2.COLORMAP_VIRIDIS):\n",
    "    # apply the supplied color map to the heatmap and then\n",
    "    # overlay the heatmap on the input image\n",
    "    image = img_as_ubyte(image)\n",
    "    heatmap = cv2.applyColorMap(heatmap, colormap)\n",
    "    output = cv2.addWeighted(image, alpha, heatmap, 1 - alpha, 0)\n",
    "    # return a 2-tuple of the color mapped heatmap and the output,\n",
    "    # overlaid image\n",
    "    return (heatmap, output)\n",
    "\n",
    "\n",
    "idx = 45\n",
    "image = X_test[idx:(idx+1),:,:,:]\n",
    "preds = model.predict(image)\n",
    "i = np.argmax(preds[0])\n",
    "\n",
    "cam = GradCAM(model, i, baseModel = \"vit-b16\")#, layerName = \"mixed10\")\n",
    "heatmap = cam.compute_heatmap(image)\n",
    "heatmap = cv2.applyColorMap(heatmap, cv2.COLORMAP_VIRIDIS)\n",
    "(heatmap, output) = cam.overlay_heatmap(heatmap, image[0,:,:,:], alpha = 0.3)\n",
    "plt.imshow(output)"
   ]
  },
  {
   "cell_type": "code",
   "execution_count": null,
   "id": "8db5c081",
   "metadata": {
    "execution": {
     "iopub.status.busy": "2024-01-07T18:59:07.815543Z",
     "iopub.status.idle": "2024-01-07T18:59:07.816005Z",
     "shell.execute_reply": "2024-01-07T18:59:07.815794Z",
     "shell.execute_reply.started": "2024-01-07T18:59:07.815773Z"
    },
    "papermill": {
     "duration": null,
     "end_time": null,
     "exception": null,
     "start_time": null,
     "status": "pending"
    },
    "tags": []
   },
   "outputs": [],
   "source": [
    "gradcam_explain = np.zeros((3, 224, 224))\n",
    "\n",
    "nimages, _, _, _ = X_test.shape\n",
    "with tf.device(\"/gpu:1\"):\n",
    "  for n in range(nimages):\n",
    "    image = X_test[n,:,:,:].reshape(1, 224, 224, 3)\n",
    "    preds = model.predict(image)\n",
    "    top_label = np.argmax(preds[0])\n",
    "\n",
    "    cam = GradCAM(model, top_label, baseModel = \"vit-b16\")#, layerName = \"mixed10\")\n",
    "    heatmap = cam.compute_heatmap(image)\n",
    "    heatmap = heatmap / 255\n",
    "    \n",
    "    gradcam_explain[top_label,:,:] = np.add(gradcam_explain[top_label,:,:], heatmap)\n",
    "    "
   ]
  },
  {
   "cell_type": "code",
   "execution_count": null,
   "id": "db85e2ce",
   "metadata": {
    "execution": {
     "iopub.status.busy": "2024-01-07T18:59:07.817640Z",
     "iopub.status.idle": "2024-01-07T18:59:07.817983Z",
     "shell.execute_reply": "2024-01-07T18:59:07.817835Z",
     "shell.execute_reply.started": "2024-01-07T18:59:07.817819Z"
    },
    "papermill": {
     "duration": null,
     "end_time": null,
     "exception": null,
     "start_time": null,
     "status": "pending"
    },
    "tags": []
   },
   "outputs": [],
   "source": [
    "fig, ax = plt.subplots()\n",
    "fig.set_size_inches(20, 20)\n",
    "sns.heatmap(gradcam_explain[0,:,:], cmap = \"YlOrRd\", xticklabels = False, yticklabels = False, cbar = False)"
   ]
  }
 ],
 "metadata": {
  "kaggle": {
   "accelerator": "gpu",
   "dataSources": [
    {
     "datasetId": 5839,
     "sourceId": 18613,
     "sourceType": "datasetVersion"
    }
   ],
   "dockerImageVersionId": 30627,
   "isGpuEnabled": true,
   "isInternetEnabled": true,
   "language": "python",
   "sourceType": "notebook"
  },
  "kernelspec": {
   "display_name": "Python 3",
   "language": "python",
   "name": "python3"
  },
  "language_info": {
   "codemirror_mode": {
    "name": "ipython",
    "version": 3
   },
   "file_extension": ".py",
   "mimetype": "text/x-python",
   "name": "python",
   "nbconvert_exporter": "python",
   "pygments_lexer": "ipython3",
   "version": "3.10.12"
  },
  "papermill": {
   "default_parameters": {},
   "duration": 13226.208746,
   "end_time": "2024-01-07T22:45:06.730318",
   "environment_variables": {},
   "exception": true,
   "input_path": "__notebook__.ipynb",
   "output_path": "__notebook__.ipynb",
   "parameters": {},
   "start_time": "2024-01-07T19:04:40.521572",
   "version": "2.4.0"
  }
 },
 "nbformat": 4,
 "nbformat_minor": 5
}
