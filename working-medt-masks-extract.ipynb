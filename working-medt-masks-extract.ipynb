{
 "cells": [
  {
   "cell_type": "code",
   "execution_count": 1,
   "id": "9999bb69",
   "metadata": {
    "_cell_guid": "b1076dfc-b9ad-4769-8c92-a6c4dae69d19",
    "_uuid": "8f2839f25d086af736a60e9eeb907d3b93b6e0e5",
    "execution": {
     "iopub.execute_input": "2023-12-29T17:32:54.056838Z",
     "iopub.status.busy": "2023-12-29T17:32:54.056485Z",
     "iopub.status.idle": "2023-12-29T17:33:00.035968Z",
     "shell.execute_reply": "2023-12-29T17:33:00.034897Z"
    },
    "papermill": {
     "duration": 5.993837,
     "end_time": "2023-12-29T17:33:00.038430",
     "exception": false,
     "start_time": "2023-12-29T17:32:54.044593",
     "status": "completed"
    },
    "tags": []
   },
   "outputs": [
    {
     "name": "stderr",
     "output_type": "stream",
     "text": [
      "/opt/conda/lib/python3.10/site-packages/scipy/__init__.py:146: UserWarning: A NumPy version >=1.16.5 and <1.23.0 is required for this version of SciPy (detected version 1.24.3\n",
      "  warnings.warn(f\"A NumPy version >={np_minversion} and <{np_maxversion}\"\n"
     ]
    }
   ],
   "source": [
    "# library imports \n",
    "import pdb\n",
    "import math\n",
    "import torch\n",
    "import torch.nn as nn\n",
    "import torch.nn.functional as F\n",
    "import matplotlib.pyplot as plt\n",
    "import random\n",
    "# use this seed function to make sure the result is reproducible\n",
    "def reset_seed():\n",
    "  torch.manual_seed(42)\n",
    "  random.seed(42)\n",
    "  torch.cuda.manual_seed(42)\n",
    "import torch.nn as nn\n",
    "from torch.autograd import Variable\n",
    "from torchvision import transforms\n",
    "from torch.utils.data.dataset import Dataset\n",
    "import matplotlib.pyplot as plt\n",
    "import pandas as pd\n",
    "import torchvision\n",
    "from torch.utils.data import DataLoader\n",
    "from PIL import Image\n",
    "import os\n",
    "import albumentations as A\n",
    "from albumentations.pytorch import ToTensorV2\n",
    "import numpy as np\n",
    "import cv2\n"
   ]
  },
  {
   "cell_type": "code",
   "execution_count": 2,
   "id": "24c96ada",
   "metadata": {
    "execution": {
     "iopub.execute_input": "2023-12-29T17:33:00.060538Z",
     "iopub.status.busy": "2023-12-29T17:33:00.060032Z",
     "iopub.status.idle": "2023-12-29T17:33:01.300327Z",
     "shell.execute_reply": "2023-12-29T17:33:01.299235Z"
    },
    "papermill": {
     "duration": 1.253645,
     "end_time": "2023-12-29T17:33:01.302492",
     "exception": false,
     "start_time": "2023-12-29T17:33:00.048847",
     "status": "completed"
    },
    "tags": []
   },
   "outputs": [
    {
     "name": "stdout",
     "output_type": "stream",
     "text": [
      "21303 Files Found.\n"
     ]
    }
   ],
   "source": [
    "import glob\n",
    "FIND_FOLDER = '/kaggle/input/chest-x-rays-with-masks/CXR with masks dataset/images' # replace this with your dataset directory\n",
    "images_files = glob.glob(os.path.join(FIND_FOLDER, '*.png'))\n",
    "print(len(images_files), \"Files Found.\")"
   ]
  },
  {
   "cell_type": "code",
   "execution_count": 3,
   "id": "d34786ed",
   "metadata": {
    "execution": {
     "iopub.execute_input": "2023-12-29T17:33:01.324571Z",
     "iopub.status.busy": "2023-12-29T17:33:01.323943Z",
     "iopub.status.idle": "2023-12-29T17:39:07.552515Z",
     "shell.execute_reply": "2023-12-29T17:39:07.551586Z"
    },
    "papermill": {
     "duration": 366.241954,
     "end_time": "2023-12-29T17:39:07.554895",
     "exception": false,
     "start_time": "2023-12-29T17:33:01.312941",
     "status": "completed"
    },
    "tags": []
   },
   "outputs": [],
   "source": [
    "import shutil\n",
    "# Define your directories\n",
    "base_dir = \"/kaggle/input/chest-x-rays-with-masks/CXR with masks dataset\"\n",
    "images_dir = os.path.join(base_dir, 'images')\n",
    "masks_dir = os.path.join(base_dir, 'masks')\n",
    "\n",
    "# Create new directories if they don't exist\n",
    "os.makedirs('trainimages', exist_ok=True)\n",
    "os.makedirs('trainmasks', exist_ok=True)\n",
    "os.makedirs('valimages', exist_ok=True)\n",
    "os.makedirs('valmasks', exist_ok=True)\n",
    "os.makedirs('testimages', exist_ok=True)\n",
    "os.makedirs('testmasks', exist_ok=True)\n",
    "\n",
    "# Get a list of all image and mask names\n",
    "image_names = os.listdir(images_dir)\n",
    "mask_names = os.listdir(masks_dir)\n",
    "\n",
    "# Shuffle the list of names\n",
    "np.random.shuffle(image_names)\n",
    "\n",
    "# Split the names into training, validation, and test sets (80-10-10 split)\n",
    "train_size = int(0.8 * len(image_names))\n",
    "val_size = int(0.1 * len(image_names))\n",
    "test_size = len(image_names) - train_size - val_size\n",
    "\n",
    "train_image_names = image_names[:train_size]\n",
    "val_image_names = image_names[train_size:train_size + val_size]\n",
    "test_image_names = image_names[train_size + val_size:]\n",
    "\n",
    "# Copy the images and masks into the new directories\n",
    "for name in train_image_names:\n",
    "    shutil.copy(os.path.join(images_dir, name), 'trainimages')\n",
    "    shutil.copy(os.path.join(masks_dir, name), 'trainmasks')\n",
    "\n",
    "for name in val_image_names:\n",
    "    shutil.copy(os.path.join(images_dir, name), 'valimages')\n",
    "    shutil.copy(os.path.join(masks_dir, name), 'valmasks')\n",
    "\n",
    "for name in test_image_names:\n",
    "    shutil.copy(os.path.join(images_dir, name), 'testimages')\n",
    "    shutil.copy(os.path.join(masks_dir, name), 'testmasks')\n"
   ]
  },
  {
   "cell_type": "code",
   "execution_count": 4,
   "id": "80b783d2",
   "metadata": {
    "execution": {
     "iopub.execute_input": "2023-12-29T17:39:07.577010Z",
     "iopub.status.busy": "2023-12-29T17:39:07.576689Z",
     "iopub.status.idle": "2023-12-29T17:39:07.642794Z",
     "shell.execute_reply": "2023-12-29T17:39:07.641747Z"
    },
    "papermill": {
     "duration": 0.079573,
     "end_time": "2023-12-29T17:39:07.644959",
     "exception": false,
     "start_time": "2023-12-29T17:39:07.565386",
     "status": "completed"
    },
    "tags": []
   },
   "outputs": [
    {
     "name": "stdout",
     "output_type": "stream",
     "text": [
      "17042 Files Found.\n"
     ]
    }
   ],
   "source": [
    "FIND_FOLDER = '/kaggle/working/trainimages'\n",
    "ch = glob.glob(os.path.join(FIND_FOLDER, '*.png'))\n",
    "print(len(ch), \"Files Found.\")\n"
   ]
  },
  {
   "cell_type": "code",
   "execution_count": 5,
   "id": "ca5136ae",
   "metadata": {
    "execution": {
     "iopub.execute_input": "2023-12-29T17:39:07.666680Z",
     "iopub.status.busy": "2023-12-29T17:39:07.666367Z",
     "iopub.status.idle": "2023-12-29T17:39:07.700621Z",
     "shell.execute_reply": "2023-12-29T17:39:07.699809Z"
    },
    "papermill": {
     "duration": 0.04757,
     "end_time": "2023-12-29T17:39:07.702680",
     "exception": false,
     "start_time": "2023-12-29T17:39:07.655110",
     "status": "completed"
    },
    "tags": []
   },
   "outputs": [],
   "source": [
    "class Medical_Dataset(Dataset):\n",
    "  def __init__(self, image_dir, mask_dir, transform=None):\n",
    "    self.image_dir = image_dir\n",
    "    self.mask_dir = mask_dir\n",
    "    self.transform = transform\n",
    "    self.images = os.listdir(image_dir)\n",
    "\n",
    "  def __len__(self):\n",
    "    return len(self.images)\n",
    "\n",
    "  def __getitem__(self, index):\n",
    "    img_path = os.path.join(self.image_dir, self.images[index])\n",
    "    mask_path = os.path.join(self.mask_dir, self.images[index])\n",
    "    image = np.array(Image.open(img_path).convert(\"RGB\"))\n",
    "    image = cv2.resize(image, (128,128))\n",
    "\n",
    "    mask = np.array(Image.open(mask_path))\n",
    "    mask=cv2.resize(mask,(128,128))\n",
    "    mask[mask >= 1] = 1.0\n",
    "\n",
    "    if self.transform is not None:\n",
    "      augmentations = self.transform(image=image, mask=mask)\n",
    "      image = augmentations[\"image\"]\n",
    "      mask = augmentations[\"mask\"]\n",
    "    return image, mask\n",
    "\n",
    "train_transform = A.Compose(\n",
    "    [\n",
    "        A.Resize(height=128, width=128),\n",
    "        A.Rotate(limit=35, p=1.0),\n",
    "        A.HorizontalFlip(p=0.5),\n",
    "        A.VerticalFlip(p=0.1),\n",
    "        A.Normalize(\n",
    "            mean = [0.0, 0.0, 0.0],\n",
    "            std = [1.0, 1.0, 1.0],\n",
    "            max_pixel_value = 255.0\n",
    "        ),\n",
    "        ToTensorV2(),\n",
    "    ])\n",
    "val_transform = A.Compose(\n",
    "    [\n",
    "        A.Resize(height=128, width=128),\n",
    "        A.Normalize(\n",
    "            mean = [0.0, 0.0, 0.0],\n",
    "            std = [1.0, 1.0, 1.0],\n",
    "            max_pixel_value = 255.0\n",
    "        ),\n",
    "        ToTensorV2(),\n",
    "    ])\n",
    "\n",
    "TRAIN_DIR = r'/kaggle/working/trainimages'\n",
    "TRAIN_MASK = r'/kaggle/working/trainmasks'\n",
    "TEST_DIR = r'/kaggle/working/testimages'\n",
    "TEST_MASK = r'/kaggle/working/testmasks'\n",
    "VAL_DIR = r'/kaggle/working/valimages'\n",
    "VAL_MASK = r'/kaggle/working/valmasks'\n",
    "\n",
    "train_ds = Medical_Dataset(TRAIN_DIR, TRAIN_MASK, transform=train_transform)\n",
    "val_ds = Medical_Dataset(VAL_DIR, VAL_MASK, transform=val_transform)\n",
    "test_ds = Medical_Dataset(TEST_DIR, TEST_MASK, transform=val_transform)\n",
    "reset_seed()\n",
    "\n",
    "BATCH_SIZE =32\n",
    "NUM_WORKERS = 2  # add 2 or 4 if using gpu\n",
    "IMAGE_HEIGHT = 128\n",
    "IMAGE_WIDTH = 128\n",
    "PIN_MEMORY = True\n",
    "train_loader = DataLoader(\n",
    "    train_ds,\n",
    "    batch_size = BATCH_SIZE,\n",
    "    num_workers = NUM_WORKERS,\n",
    "    pin_memory = PIN_MEMORY,\n",
    "    shuffle=True,\n",
    ")\n",
    "val_loader = DataLoader(\n",
    "    val_ds,\n",
    "    batch_size=BATCH_SIZE,\n",
    "    num_workers = NUM_WORKERS,\n",
    "    pin_memory = PIN_MEMORY,\n",
    "    shuffle=False\n",
    ")\n",
    "test_loader = DataLoader(\n",
    "    test_ds,\n",
    "    batch_size=BATCH_SIZE,\n",
    "    num_workers = NUM_WORKERS,\n",
    "    pin_memory = PIN_MEMORY,\n",
    "    shuffle=False\n",
    ")"
   ]
  },
  {
   "cell_type": "code",
   "execution_count": 6,
   "id": "b980cc0c",
   "metadata": {
    "execution": {
     "iopub.execute_input": "2023-12-29T17:39:07.724738Z",
     "iopub.status.busy": "2023-12-29T17:39:07.724151Z",
     "iopub.status.idle": "2023-12-29T17:39:07.763858Z",
     "shell.execute_reply": "2023-12-29T17:39:07.762754Z"
    },
    "papermill": {
     "duration": 0.053093,
     "end_time": "2023-12-29T17:39:07.765910",
     "exception": false,
     "start_time": "2023-12-29T17:39:07.712817",
     "status": "completed"
    },
    "tags": []
   },
   "outputs": [
    {
     "name": "stdout",
     "output_type": "stream",
     "text": [
      "torch.Size([3, 128, 128])\n",
      "torch.Size([128, 128])\n"
     ]
    }
   ],
   "source": [
    "for X, y in train_ds:\n",
    "  print(X.shape)\n",
    "  print(y.shape)\n",
    "  break"
   ]
  },
  {
   "cell_type": "code",
   "execution_count": 7,
   "id": "dcac3d45",
   "metadata": {
    "execution": {
     "iopub.execute_input": "2023-12-29T17:39:07.788388Z",
     "iopub.status.busy": "2023-12-29T17:39:07.788081Z",
     "iopub.status.idle": "2023-12-29T17:39:07.793403Z",
     "shell.execute_reply": "2023-12-29T17:39:07.792647Z"
    },
    "papermill": {
     "duration": 0.019076,
     "end_time": "2023-12-29T17:39:07.795279",
     "exception": false,
     "start_time": "2023-12-29T17:39:07.776203",
     "status": "completed"
    },
    "tags": []
   },
   "outputs": [],
   "source": [
    "def conv1x1(in_planes, out_planes, stride=1):\n",
    "  return nn.Conv2d(in_planes, out_planes, kernel_size=1, stride=stride, bias=False)\n",
    "\n",
    "class qkv_transform(nn.Conv1d):\n",
    "  \"\"\"Conv1d for qkv_transform\"\"\""
   ]
  },
  {
   "cell_type": "code",
   "execution_count": 8,
   "id": "252dbd0c",
   "metadata": {
    "execution": {
     "iopub.execute_input": "2023-12-29T17:39:07.816889Z",
     "iopub.status.busy": "2023-12-29T17:39:07.816604Z",
     "iopub.status.idle": "2023-12-29T17:39:07.841716Z",
     "shell.execute_reply": "2023-12-29T17:39:07.840906Z"
    },
    "papermill": {
     "duration": 0.038382,
     "end_time": "2023-12-29T17:39:07.843667",
     "exception": false,
     "start_time": "2023-12-29T17:39:07.805285",
     "status": "completed"
    },
    "tags": []
   },
   "outputs": [],
   "source": [
    "class AxialAttention(nn.Module):\n",
    "  \n",
    "  def __init__(self,\n",
    "               in_planes,\n",
    "               out_planes,\n",
    "               groups=8,\n",
    "               kernel_size=56,\n",
    "               stride=1,\n",
    "               bias=False,\n",
    "               width=False):\n",
    "    \"\"\"\n",
    "    args :\n",
    "      in_planes : d_q\n",
    "      out_planes : d_out\n",
    "      groups : number heads \n",
    "      kernel_size : size of memory block\n",
    "    \"\"\"\n",
    "    super().__init__()\n",
    "    self.in_planes = in_planes\n",
    "    self.out_planes = out_planes\n",
    "    self.groups = groups\n",
    "    self.group_planes = out_planes // groups\n",
    "    self.kernel_size = kernel_size\n",
    "    self.stride = stride\n",
    "    self.bias = bias\n",
    "    self.width = width\n",
    "\n",
    "    # Multi-head self attention\n",
    "    # d_q = out_planes // 2, d_out = out_planes (out_planes = 16) => number of \n",
    "    self.qkv_transform = qkv_transform(in_planes, out_planes*2, kernel_size=1, stride=1,\n",
    "                                       padding=0, bias=False)\n",
    "    self.bn_qkv = nn.BatchNorm1d(out_planes * 2) # shape : q,k : (out_planes, d_q)\n",
    "    self.bn_similarity = nn.BatchNorm2d(groups * 3)\n",
    "    self.bn_output = nn.BatchNorm1d(out_planes * 2)\n",
    "\n",
    "    # position embedding\n",
    "    # (2 * kernel_size - 1) position : -(kernel_size-1),...,0,...,(kernel_size-1)\n",
    "    # number of channels = channels of r_q + channels of r_k + channels of r_v\n",
    "    # group_planes * 2   =  group_planes//2 * 2 + group_planes (dim value + dim query + dim key)\n",
    "    # => dim of embedding position : group_planes * 2 * (kernel_size * 2 - 1)\n",
    "    self.relative = nn.Parameter(torch.randn(self.group_planes * 2, kernel_size * 2 - 1), requires_grad=True)\n",
    "    query_index = torch.arange(kernel_size).unsqueeze(0)\n",
    "    key_index = torch.arange(kernel_size).unsqueeze(1)\n",
    "    relative_index = key_index - query_index + kernel_size - 1\n",
    "    self.register_buffer('flatten_index', relative_index.view(-1))\n",
    "    if stride > 1:\n",
    "      self.pooling = nn.AvgPool2d(stride, stride=stride)\n",
    "    \n",
    "    self.reset_paremeters()\n",
    "  \n",
    "  def forward(self, x):\n",
    "    # axial attention width-axis \n",
    "    if self.width:\n",
    "      x = x.permute(0, 2, 1, 3) # N, H, C, W\n",
    "    else:\n",
    "      x = x.permute(0, 3, 1, 2) # N, W, C, H\n",
    "    N, W, C, H = x.shape\n",
    "    x = x.contiguous().view(N*W, C, H)\n",
    "    # Transformations\n",
    "    qkv = self.bn_qkv(self.qkv_transform(x))\n",
    "    #print(x.shape)\n",
    "    #print(self.qkv_transform(x).shape)\n",
    "    q, k, v = torch.split(qkv.reshape(N*W, self.groups, self.group_planes * 2, H), \n",
    "                          [self.group_planes // 2, self.group_planes // 2, self.group_planes], dim=2)\n",
    "    \n",
    "    # Calculate position embedding\n",
    "    # self.flatten_index : shape (kernel_size * kernel_size)\n",
    "    all_embedding = torch.index_select(self.relative, 1, self.flatten_index).view(self.group_planes * 2, self.kernel_size, self.kernel_size)\n",
    "    q_embedding, k_embedding, v_embedding = torch.split(all_embedding, [self.group_planes // 2, self.group_planes // 2, self.group_planes], dim=0)\n",
    "    qqn = q_embedding[0].detach().cpu().numpy()\n",
    "    #plt.imshow(qqn)\n",
    "    kqn = k_embedding[0].detach().cpu().numpy()\n",
    "    #plt.imshow(kqn)\n",
    "    # q : shape (N*W, number heads, self.group_planes // 2 = d_q, H)\n",
    "    # k : shape (N*W, number heads, self.group_planes // 2 = d_q, H)\n",
    "    # v : shape (N*W, number heads, self.group_planes = 2 * d_q, H)\n",
    "    # q_embedding : shape (self.group_planes // 2, kernel_size, kernel_size)\n",
    "    # k_embedding : shape (self.group_planes // 2, kernel_size, kernel_size)\n",
    "    # v_embedding : shape (self.group_planes, kernel_size, kernel_size)\n",
    "    # qr : shape (N*W, number heads, kernel_size, kernel_size)\n",
    "    # kr : shape (N*W, number heads, kernel_size, kernel_size)\n",
    "    # why transpose(2, 3) -> because index of equal (2) Medical-Transform\n",
    "    # qk : shape\n",
    "    qr = torch.einsum('bgci,cij->bgij', q, q_embedding)\n",
    "    kr = torch.einsum('bgci,cij->bgij', k, k_embedding).transpose(2, 3)\n",
    "    qk = torch.einsum('bgci,bgcj->bgij', q, k)\n",
    "    # batchnorm each qr, qk, kr before sum\n",
    "    stacked_similarity = torch.cat([qk, qr, kr], dim=1)\n",
    "    stacked_similarity = self.bn_similarity(stacked_similarity).view(N*W, 3, self.groups, H, H).sum(dim=1)\n",
    "    # stacked_similarity = self.bn_qr(qr) + self.bn_kr(kr) + self.bn_qk(qk)\n",
    "    # (N*W, groups, H, H)\n",
    "    similarity = F.softmax(stacked_similarity, dim=3)\n",
    "    sv = torch.einsum('bgij,bgcj->bgci', similarity, v)\n",
    "    sve = torch.einsum('bgij,cij->bgci', similarity, v_embedding)\n",
    "    stacked_output = torch.cat([sv, sve], dim=-1).view(N*W, self.out_planes*2, H)\n",
    "    output = self.bn_output(stacked_output).view(N, W, self.out_planes, 2, H).sum(dim=-2)\n",
    "\n",
    "    if self.width:\n",
    "      output = output.permute(0, 2, 1, 3)\n",
    "    else:\n",
    "      output = output.permute(0, 2, 3, 1)\n",
    "    \n",
    "    if self.stride > 1:\n",
    "      output = self.pooling(output)\n",
    "    return output\n",
    "\n",
    "  def reset_paremeters(self):\n",
    "    self.qkv_transform.weight.data.normal_(0, math.sqrt(1. / self.in_planes))\n",
    "    nn.init.normal_(self.relative, 0, math.sqrt(1. / self.group_planes))\n"
   ]
  },
  {
   "cell_type": "code",
   "execution_count": 9,
   "id": "9e6056fe",
   "metadata": {
    "execution": {
     "iopub.execute_input": "2023-12-29T17:39:07.865621Z",
     "iopub.status.busy": "2023-12-29T17:39:07.865297Z",
     "iopub.status.idle": "2023-12-29T17:39:07.886892Z",
     "shell.execute_reply": "2023-12-29T17:39:07.886014Z"
    },
    "papermill": {
     "duration": 0.034853,
     "end_time": "2023-12-29T17:39:07.888743",
     "exception": false,
     "start_time": "2023-12-29T17:39:07.853890",
     "status": "completed"
    },
    "tags": []
   },
   "outputs": [],
   "source": [
    "class AxialAttention_dynamic(nn.Module):\n",
    "  def __init__(self, \n",
    "               in_planes, \n",
    "               out_planes, \n",
    "               groups=8, \n",
    "               kernel_size=56,\n",
    "               stride=1, \n",
    "               bias=False, \n",
    "               width=False):\n",
    "      assert (in_planes % groups == 0) and (out_planes % groups == 0)\n",
    "      super(AxialAttention_dynamic, self).__init__()\n",
    "      self.in_planes = in_planes\n",
    "      self.out_planes = out_planes\n",
    "      self.groups = groups\n",
    "      self.group_planes = out_planes // groups\n",
    "      self.kernel_size = kernel_size\n",
    "      self.stride = stride\n",
    "      self.bias = bias\n",
    "      self.width = width\n",
    "\n",
    "      # Multi-head self attention\n",
    "      self.qkv_transform = qkv_transform(in_planes, out_planes * 2, kernel_size=1, stride=1,\n",
    "                                          padding=0, bias=False)\n",
    "      self.bn_qkv = nn.BatchNorm1d(out_planes * 2)\n",
    "      self.bn_similarity = nn.BatchNorm2d(groups * 3)\n",
    "      self.bn_output = nn.BatchNorm1d(out_planes * 2)\n",
    "\n",
    "      # Priority on encoding\n",
    "\n",
    "      ## Initial values \n",
    "\n",
    "      self.f_qr = nn.Parameter(torch.tensor(0.1),  requires_grad=False) \n",
    "      self.f_kr = nn.Parameter(torch.tensor(0.1),  requires_grad=False)\n",
    "      self.f_sve = nn.Parameter(torch.tensor(0.1),  requires_grad=False)\n",
    "      self.f_sv = nn.Parameter(torch.tensor(1.0),  requires_grad=False)\n",
    "\n",
    "\n",
    "      # Position embedding\n",
    "      self.relative = nn.Parameter(torch.randn(self.group_planes * 2, kernel_size * 2 - 1), requires_grad=True)\n",
    "      query_index = torch.arange(kernel_size).unsqueeze(0)\n",
    "      key_index = torch.arange(kernel_size).unsqueeze(1)\n",
    "      relative_index = key_index - query_index + kernel_size - 1\n",
    "      self.register_buffer('flatten_index', relative_index.view(-1))\n",
    "      if stride > 1:\n",
    "          self.pooling = nn.AvgPool2d(stride, stride=stride)\n",
    "\n",
    "      self.reset_parameters()\n",
    "      # self.print_para()\n",
    "\n",
    "  def forward(self, x):\n",
    "      if self.width:\n",
    "          x = x.permute(0, 2, 1, 3)\n",
    "      else:\n",
    "          x = x.permute(0, 3, 1, 2)  # N, W, C, H\n",
    "      N, W, C, H = x.shape\n",
    "      x = x.contiguous().view(N * W, C, H)\n",
    "\n",
    "      # Transformations\n",
    "      qkv = self.bn_qkv(self.qkv_transform(x))\n",
    "      q, k, v = torch.split(qkv.reshape(N * W, self.groups, self.group_planes * 2, H), [self.group_planes // 2, self.group_planes // 2, self.group_planes], dim=2)\n",
    "\n",
    "      # Calculate position embedding\n",
    "      all_embeddings = torch.index_select(self.relative, 1, self.flatten_index).view(self.group_planes * 2, self.kernel_size, self.kernel_size)\n",
    "      q_embedding, k_embedding, v_embedding = torch.split(all_embeddings, [self.group_planes // 2, self.group_planes // 2, self.group_planes], dim=0)\n",
    "      qr = torch.einsum('bgci,cij->bgij', q, q_embedding)\n",
    "      kr = torch.einsum('bgci,cij->bgij', k, k_embedding).transpose(2, 3)\n",
    "      qk = torch.einsum('bgci, bgcj->bgij', q, k)\n",
    "\n",
    "\n",
    "      # multiply by factors\n",
    "      qr = torch.mul(qr, self.f_qr)\n",
    "      kr = torch.mul(kr, self.f_kr)\n",
    "\n",
    "      stacked_similarity = torch.cat([qk, qr, kr], dim=1)\n",
    "      stacked_similarity = self.bn_similarity(stacked_similarity).view(N * W, 3, self.groups, H, H).sum(dim=1)\n",
    "      #stacked_similarity = self.bn_qr(qr) + self.bn_kr(kr) + self.bn_qk(qk)\n",
    "      # (N, groups, H, H, W)\n",
    "      similarity = F.softmax(stacked_similarity, dim=3)\n",
    "      sv = torch.einsum('bgij,bgcj->bgci', similarity, v)\n",
    "      sve = torch.einsum('bgij,cij->bgci', similarity, v_embedding)\n",
    "\n",
    "      # multiply by factors\n",
    "      sv = torch.mul(sv, self.f_sv)\n",
    "      sve = torch.mul(sve, self.f_sve)\n",
    "\n",
    "      stacked_output = torch.cat([sv, sve], dim=-1).view(N * W, self.out_planes * 2, H)\n",
    "      output = self.bn_output(stacked_output).view(N, W, self.out_planes, 2, H).sum(dim=-2)\n",
    "\n",
    "      if self.width:\n",
    "          output = output.permute(0, 2, 1, 3)\n",
    "      else:\n",
    "          output = output.permute(0, 2, 3, 1)\n",
    "\n",
    "      if self.stride > 1:\n",
    "          output = self.pooling(output)\n",
    "\n",
    "      return output\n",
    "  def reset_parameters(self):\n",
    "      self.qkv_transform.weight.data.normal_(0, math.sqrt(1. / self.in_planes))\n",
    "      #nn.init.uniform_(self.relative, -0.1, 0.1)\n",
    "      nn.init.normal_(self.relative, 0., math.sqrt(1. / self.group_planes))"
   ]
  },
  {
   "cell_type": "code",
   "execution_count": 10,
   "id": "6f60259a",
   "metadata": {
    "execution": {
     "iopub.execute_input": "2023-12-29T17:39:07.910078Z",
     "iopub.status.busy": "2023-12-29T17:39:07.909723Z",
     "iopub.status.idle": "2023-12-29T17:39:07.924322Z",
     "shell.execute_reply": "2023-12-29T17:39:07.923598Z"
    },
    "papermill": {
     "duration": 0.027381,
     "end_time": "2023-12-29T17:39:07.926128",
     "exception": false,
     "start_time": "2023-12-29T17:39:07.898747",
     "status": "completed"
    },
    "tags": []
   },
   "outputs": [],
   "source": [
    "class AxialAttention_wopos(nn.Module):\n",
    "  def __init__(self, in_planes, out_planes, groups=8, kernel_size=56,\n",
    "                stride=1, bias=False, width=False):\n",
    "      assert (in_planes % groups == 0) and (out_planes % groups == 0)\n",
    "      super(AxialAttention_wopos, self).__init__()\n",
    "      self.in_planes = in_planes\n",
    "      self.out_planes = out_planes\n",
    "      self.groups = groups\n",
    "      self.group_planes = out_planes // groups\n",
    "      self.kernel_size = kernel_size\n",
    "      self.stride = stride\n",
    "      self.bias = bias\n",
    "      self.width = width\n",
    "\n",
    "      # Multi-head self attention\n",
    "      self.qkv_transform = qkv_transform(in_planes, out_planes * 2, kernel_size=1, stride=1,\n",
    "                                          padding=0, bias=False)\n",
    "      self.bn_qkv = nn.BatchNorm1d(out_planes * 2)\n",
    "      self.bn_similarity = nn.BatchNorm2d(groups )\n",
    "\n",
    "      self.bn_output = nn.BatchNorm1d(out_planes * 1)\n",
    "\n",
    "      if stride > 1:\n",
    "          self.pooling = nn.AvgPool2d(stride, stride=stride)\n",
    "\n",
    "      self.reset_parameters()\n",
    "\n",
    "  def forward(self, x):\n",
    "      if self.width:\n",
    "          x = x.permute(0, 2, 1, 3)\n",
    "      else:\n",
    "          x = x.permute(0, 3, 1, 2)  # N, W, C, H\n",
    "      N, W, C, H = x.shape\n",
    "      x = x.contiguous().view(N * W, C, H)\n",
    "\n",
    "      # Transformations\n",
    "      qkv = self.bn_qkv(self.qkv_transform(x))\n",
    "      q, k, v = torch.split(qkv.reshape(N * W, self.groups, self.group_planes * 2, H), [self.group_planes // 2, self.group_planes // 2, self.group_planes], dim=2)\n",
    "\n",
    "      qk = torch.einsum('bgci, bgcj->bgij', q, k)\n",
    "\n",
    "      stacked_similarity = self.bn_similarity(qk).reshape(N * W, 1, self.groups, H, H).sum(dim=1).contiguous()\n",
    "\n",
    "      similarity = F.softmax(stacked_similarity, dim=3)\n",
    "      sv = torch.einsum('bgij,bgcj->bgci', similarity, v)\n",
    "\n",
    "      sv = sv.reshape(N*W,self.out_planes * 1, H).contiguous()\n",
    "      output = self.bn_output(sv).reshape(N, W, self.out_planes, 1, H).sum(dim=-2).contiguous()\n",
    "\n",
    "\n",
    "      if self.width:\n",
    "          output = output.permute(0, 2, 1, 3)\n",
    "      else:\n",
    "          output = output.permute(0, 2, 3, 1)\n",
    "\n",
    "      if self.stride > 1:\n",
    "          output = self.pooling(output)\n",
    "\n",
    "      return output\n",
    "\n",
    "  def reset_parameters(self):\n",
    "      self.qkv_transform.weight.data.normal_(0, math.sqrt(1. / self.in_planes))"
   ]
  },
  {
   "cell_type": "code",
   "execution_count": 11,
   "id": "8996a4ea",
   "metadata": {
    "execution": {
     "iopub.execute_input": "2023-12-29T17:39:07.947269Z",
     "iopub.status.busy": "2023-12-29T17:39:07.946928Z",
     "iopub.status.idle": "2023-12-29T17:39:07.957442Z",
     "shell.execute_reply": "2023-12-29T17:39:07.956734Z"
    },
    "papermill": {
     "duration": 0.023342,
     "end_time": "2023-12-29T17:39:07.959366",
     "exception": false,
     "start_time": "2023-12-29T17:39:07.936024",
     "status": "completed"
    },
    "tags": []
   },
   "outputs": [],
   "source": [
    "class AxialBlock(nn.Module):\n",
    "  expansion = 2\n",
    "\n",
    "  def __init__(self, \n",
    "               inplanes, \n",
    "               planes, \n",
    "               stride=1, \n",
    "               downsample=None, \n",
    "               groups=1,\n",
    "               base_width=64,\n",
    "               dilation=1,\n",
    "               norm_layer=None,\n",
    "               kernel_size=56):\n",
    "    super().__init__()\n",
    "    if norm_layer is None:\n",
    "      norm_layer = nn.BatchNorm2d\n",
    "    width = int(planes * (base_width / 64.))\n",
    "    # Both self.conv2 and self.downsample layers downsample the input when stride != 1\n",
    "    self.groups = groups\n",
    "    self.conv_down = conv1x1(inplanes, width)\n",
    "    self.bn1 = norm_layer(width)\n",
    "    self.hight_block = AxialAttention(width, width, groups=groups, kernel_size=kernel_size)\n",
    "    self.width_block = AxialAttention(width, width, groups=groups, kernel_size=kernel_size, width=True)\n",
    "    self.conv_up = conv1x1(width, planes*self.expansion)\n",
    "    self.bn2 = norm_layer(planes * self.expansion)\n",
    "    self.relu = nn.ReLU(inplace=True)\n",
    "    self.downsample = downsample\n",
    "    self.stride = stride\n",
    "\n",
    "  def forward(self, x):\n",
    "    identity = x\n",
    "\n",
    "    out = self.conv_down(x)\n",
    "    out = self.bn1(out)\n",
    "    out = self.relu(out)\n",
    "    \n",
    "    out = self.hight_block(out)\n",
    "    out = self.width_block(out)\n",
    "    out = self.relu(out)\n",
    "\n",
    "    out = self.conv_up(out)\n",
    "    out = self.bn2(out)\n",
    "\n",
    "    if self.downsample is not None:\n",
    "      identity = self.downsample(x)\n",
    "    \n",
    "    out += identity\n",
    "    out = self.relu(out)\n",
    "\n",
    "    return out"
   ]
  },
  {
   "cell_type": "code",
   "execution_count": 12,
   "id": "e1bbf897",
   "metadata": {
    "execution": {
     "iopub.execute_input": "2023-12-29T17:39:07.981044Z",
     "iopub.status.busy": "2023-12-29T17:39:07.980472Z",
     "iopub.status.idle": "2023-12-29T17:39:07.990473Z",
     "shell.execute_reply": "2023-12-29T17:39:07.989640Z"
    },
    "papermill": {
     "duration": 0.022932,
     "end_time": "2023-12-29T17:39:07.992379",
     "exception": false,
     "start_time": "2023-12-29T17:39:07.969447",
     "status": "completed"
    },
    "tags": []
   },
   "outputs": [],
   "source": [
    "class AxialBlock_dynamic(nn.Module):\n",
    "  expansion = 2\n",
    "\n",
    "  def __init__(self, inplanes, planes, stride=1, downsample=None, groups=1,\n",
    "                base_width=64, dilation=1, norm_layer=None, kernel_size=56):\n",
    "      super(AxialBlock_dynamic, self).__init__()\n",
    "      if norm_layer is None:\n",
    "          norm_layer = nn.BatchNorm2d\n",
    "      width = int(planes * (base_width / 64.))\n",
    "      # Both self.conv2 and self.downsample layers downsample the input when stride != 1\n",
    "      self.conv_down = conv1x1(inplanes, width)\n",
    "      self.bn1 = norm_layer(width)\n",
    "      self.hight_block = AxialAttention_dynamic(width, width, groups=groups, kernel_size=kernel_size)\n",
    "      self.width_block = AxialAttention_dynamic(width, width, groups=groups, kernel_size=kernel_size, stride=stride, width=True)\n",
    "      self.conv_up = conv1x1(width, planes * self.expansion)\n",
    "      self.bn2 = norm_layer(planes * self.expansion)\n",
    "      self.relu = nn.ReLU(inplace=True)\n",
    "      self.downsample = downsample\n",
    "      self.stride = stride\n",
    "\n",
    "  def forward(self, x):\n",
    "      identity = x\n",
    "\n",
    "      out = self.conv_down(x)\n",
    "      out = self.bn1(out)\n",
    "      out = self.relu(out)\n",
    "\n",
    "      out = self.hight_block(out)\n",
    "      out = self.width_block(out)\n",
    "      out = self.relu(out)\n",
    "\n",
    "      out = self.conv_up(out)\n",
    "      out = self.bn2(out)\n",
    "\n",
    "      if self.downsample is not None:\n",
    "          identity = self.downsample(x)\n",
    "      #print(out.shape)\n",
    "      #print(identity.shape)\n",
    "      out += identity\n",
    "      out = self.relu(out)\n",
    "\n",
    "      return out"
   ]
  },
  {
   "cell_type": "code",
   "execution_count": 13,
   "id": "08d9c3ab",
   "metadata": {
    "execution": {
     "iopub.execute_input": "2023-12-29T17:39:08.013686Z",
     "iopub.status.busy": "2023-12-29T17:39:08.013405Z",
     "iopub.status.idle": "2023-12-29T17:39:08.024120Z",
     "shell.execute_reply": "2023-12-29T17:39:08.023400Z"
    },
    "papermill": {
     "duration": 0.023733,
     "end_time": "2023-12-29T17:39:08.026082",
     "exception": false,
     "start_time": "2023-12-29T17:39:08.002349",
     "status": "completed"
    },
    "tags": []
   },
   "outputs": [],
   "source": [
    "class AxialBlock_wopos(nn.Module):\n",
    "  expansion = 2\n",
    "\n",
    "  def __init__(self, inplanes, planes, stride=1, downsample=None, groups=1,\n",
    "                base_width=64, dilation=1, norm_layer=None, kernel_size=56):\n",
    "      super(AxialBlock_wopos, self).__init__()\n",
    "      if norm_layer is None:\n",
    "          norm_layer = nn.BatchNorm2d\n",
    "      # print(kernel_size)\n",
    "      width = int(planes * (base_width / 64.))\n",
    "      # Both self.conv2 and self.downsample layers downsample the input when stride != 1\n",
    "      self.conv_down = conv1x1(inplanes, width)\n",
    "      self.conv1 = nn.Conv2d(width, width, kernel_size = 1)\n",
    "      self.bn1 = norm_layer(width)\n",
    "      self.hight_block = AxialAttention_wopos(width, width, groups=groups, kernel_size=kernel_size)\n",
    "      self.width_block = AxialAttention_wopos(width, width, groups=groups, kernel_size=kernel_size, stride=stride, width=True)\n",
    "      self.conv_up = conv1x1(width, planes * self.expansion)\n",
    "      self.bn2 = norm_layer(planes * self.expansion)\n",
    "      self.relu = nn.ReLU(inplace=True)\n",
    "      self.downsample = downsample\n",
    "      self.stride = stride\n",
    "\n",
    "  def forward(self, x):\n",
    "      identity = x\n",
    "\n",
    "      # pdb.set_trace()\n",
    "\n",
    "      out = self.conv_down(x)\n",
    "      out = self.bn1(out)\n",
    "      out = self.relu(out)\n",
    "      # print(out.shape)\n",
    "      out = self.hight_block(out)\n",
    "      out = self.width_block(out)\n",
    "\n",
    "      out = self.relu(out)\n",
    "\n",
    "      out = self.conv_up(out)\n",
    "      out = self.bn2(out)\n",
    "\n",
    "      if self.downsample is not None:\n",
    "          identity = self.downsample(x)\n",
    "\n",
    "      out += identity\n",
    "      out = self.relu(out)\n",
    "\n",
    "      return out"
   ]
  },
  {
   "cell_type": "code",
   "execution_count": 14,
   "id": "4b36a20c",
   "metadata": {
    "execution": {
     "iopub.execute_input": "2023-12-29T17:39:08.047567Z",
     "iopub.status.busy": "2023-12-29T17:39:08.047276Z",
     "iopub.status.idle": "2023-12-29T17:39:08.073554Z",
     "shell.execute_reply": "2023-12-29T17:39:08.072672Z"
    },
    "papermill": {
     "duration": 0.039333,
     "end_time": "2023-12-29T17:39:08.075415",
     "exception": false,
     "start_time": "2023-12-29T17:39:08.036082",
     "status": "completed"
    },
    "tags": []
   },
   "outputs": [],
   "source": [
    "class ResAxialAttentionUNet(nn.Module):\n",
    "\n",
    "  def __init__(self, block, layers, num_classes=2, zero_init_residual=True,\n",
    "                groups=8, width_per_group=64, replace_stride_with_dilation=None,\n",
    "                norm_layer=None, s=0.125, img_size = 128,imgchan = 3):\n",
    "      super(ResAxialAttentionUNet, self).__init__()\n",
    "      if norm_layer is None:\n",
    "          norm_layer = nn.BatchNorm2d\n",
    "      self._norm_layer = norm_layer\n",
    "\n",
    "      self.inplanes = int(64 * s)\n",
    "      self.dilation = 1\n",
    "      if replace_stride_with_dilation is None:\n",
    "          replace_stride_with_dilation = [False, False, False]\n",
    "      if len(replace_stride_with_dilation) != 3:\n",
    "          raise ValueError(\"replace_stride_with_dilation should be None \"\n",
    "                            \"or a 3-element tuple, got {}\".format(replace_stride_with_dilation))\n",
    "      self.groups = groups\n",
    "      self.base_width = width_per_group\n",
    "      self.conv1 = nn.Conv2d(imgchan, self.inplanes, kernel_size=7, stride=2, padding=3,\n",
    "                              bias=False)\n",
    "      self.conv2 = nn.Conv2d(self.inplanes, 128, kernel_size=3, stride=1, padding=1, bias=False)\n",
    "      self.conv3 = nn.Conv2d(128, self.inplanes, kernel_size=3, stride=1, padding=1, bias=False)\n",
    "      self.bn1 = norm_layer(self.inplanes)\n",
    "      self.bn2 = norm_layer(128)\n",
    "      self.bn3 = norm_layer(self.inplanes)\n",
    "      self.relu = nn.ReLU(inplace=True)\n",
    "      # self.maxpool = nn.MaxPool2d(kernel_size=3, stride=2, padding=1)\n",
    "      self.layer1 = self._make_layer(block, int(128 * s), layers[0], kernel_size= (img_size//2))\n",
    "      self.layer2 = self._make_layer(block, int(256 * s), layers[1], stride=2, kernel_size=(img_size//2),\n",
    "                                      dilate=replace_stride_with_dilation[0])\n",
    "      self.layer3 = self._make_layer(block, int(512 * s), layers[2], stride=2, kernel_size=(img_size//4),\n",
    "                                      dilate=replace_stride_with_dilation[1])\n",
    "      self.layer4 = self._make_layer(block, int(1024 * s), layers[3], stride=2, kernel_size=(img_size//8),\n",
    "                                      dilate=replace_stride_with_dilation[2])\n",
    "      \n",
    "      # Decoder\n",
    "      self.decoder1 = nn.Conv2d(int(1024 *2*s)      ,        int(1024*2*s), kernel_size=3, stride=2, padding=1)\n",
    "      self.decoder2 = nn.Conv2d(int(1024  *2*s)     , int(1024*s), kernel_size=3, stride=1, padding=1)\n",
    "      self.decoder3 = nn.Conv2d(int(1024*s),  int(512*s), kernel_size=3, stride=1, padding=1)\n",
    "      self.decoder4 = nn.Conv2d(int(512*s) ,  int(256*s), kernel_size=3, stride=1, padding=1)\n",
    "      self.decoder5 = nn.Conv2d(int(256*s) , int(128*s) , kernel_size=3, stride=1, padding=1)\n",
    "      self.adjust   = nn.Conv2d(int(128*s) , num_classes, kernel_size=1, stride=1, padding=0)\n",
    "      self.soft     = nn.Softmax(dim=1)\n",
    "\n",
    "\n",
    "  def _make_layer(self, block, planes, blocks, kernel_size=56, stride=1, dilate=False):\n",
    "      norm_layer = self._norm_layer\n",
    "      downsample = None\n",
    "      previous_dilation = self.dilation\n",
    "      if dilate:\n",
    "          self.dilation *= stride\n",
    "          stride = 1\n",
    "      if stride != 1 or self.inplanes != planes * block.expansion:\n",
    "          downsample = nn.Sequential(\n",
    "              conv1x1(self.inplanes, planes * block.expansion, stride),\n",
    "              norm_layer(planes * block.expansion),\n",
    "          )\n",
    "\n",
    "      layers = []\n",
    "      layers.append(block(self.inplanes, planes, stride, downsample, groups=self.groups,\n",
    "                          base_width=self.base_width, dilation=previous_dilation, \n",
    "                          norm_layer=norm_layer, kernel_size=kernel_size))\n",
    "      self.inplanes = planes * block.expansion\n",
    "      if stride != 1:\n",
    "          kernel_size = kernel_size // 2\n",
    "\n",
    "      for _ in range(1, blocks):\n",
    "          layers.append(block(self.inplanes, planes, groups=self.groups,\n",
    "                              base_width=self.base_width, dilation=self.dilation,\n",
    "                              norm_layer=norm_layer, kernel_size=kernel_size))\n",
    "\n",
    "      return nn.Sequential(*layers)\n",
    "\n",
    "  def _forward_impl(self, x):\n",
    "      \n",
    "      # AxialAttention Encoder\n",
    "      # pdb.set_trace()\n",
    "      x = self.conv1(x)\n",
    "      x = self.bn1(x)\n",
    "      x = self.relu(x)\n",
    "      x = self.conv2(x)\n",
    "      x = self.bn2(x)\n",
    "      x = self.relu(x)\n",
    "      x = self.conv3(x)\n",
    "      x = self.bn3(x)\n",
    "      x = self.relu(x)\n",
    "      #print(x.shape)\n",
    "      x1 = self.layer1(x)\n",
    "      #print(x.shape)\n",
    "      x2 = self.layer2(x1)\n",
    "      # print(x2.shape)\n",
    "      x3 = self.layer3(x2)\n",
    "      # print(x3.shape)\n",
    "      x4 = self.layer4(x3)\n",
    "\n",
    "      x = F.relu(F.interpolate(self.decoder1(x4), scale_factor=(2,2), mode ='bilinear'))\n",
    "      x = torch.add(x, x4)\n",
    "      x = F.relu(F.interpolate(self.decoder2(x) , scale_factor=(2,2), mode ='bilinear'))\n",
    "      x = torch.add(x, x3)\n",
    "      x = F.relu(F.interpolate(self.decoder3(x) , scale_factor=(2,2), mode ='bilinear'))\n",
    "      x = torch.add(x, x2)\n",
    "      x = F.relu(F.interpolate(self.decoder4(x) , scale_factor=(2,2), mode ='bilinear'))\n",
    "      x = torch.add(x, x1)\n",
    "      x = F.relu(F.interpolate(self.decoder5(x) , scale_factor=(2,2), mode ='bilinear'))\n",
    "      x = self.adjust(F.relu(x))\n",
    "      # pdb.set_trace()\n",
    "      return x\n",
    "\n",
    "  def forward(self, x):\n",
    "      return self._forward_impl(x)"
   ]
  },
  {
   "cell_type": "code",
   "execution_count": 15,
   "id": "c589f4e4",
   "metadata": {
    "execution": {
     "iopub.execute_input": "2023-12-29T17:39:08.097441Z",
     "iopub.status.busy": "2023-12-29T17:39:08.097146Z",
     "iopub.status.idle": "2023-12-29T17:39:08.137380Z",
     "shell.execute_reply": "2023-12-29T17:39:08.136556Z"
    },
    "papermill": {
     "duration": 0.053502,
     "end_time": "2023-12-29T17:39:08.139336",
     "exception": false,
     "start_time": "2023-12-29T17:39:08.085834",
     "status": "completed"
    },
    "tags": []
   },
   "outputs": [],
   "source": [
    "class medt_net(nn.Module):\n",
    "\n",
    "  def __init__(self, block, block_2, layers, num_classes=2, zero_init_residual=True,\n",
    "              groups=8, width_per_group=64, replace_stride_with_dilation=None,\n",
    "              norm_layer=None, s=0.125, img_size = 128,imgchan = 3):\n",
    "    super(medt_net, self).__init__()\n",
    "    if norm_layer is None:\n",
    "        norm_layer = nn.BatchNorm2d\n",
    "    self._norm_layer = norm_layer\n",
    "\n",
    "    self.inplanes = int(64 * s)\n",
    "    self.dilation = 1\n",
    "    if replace_stride_with_dilation is None:\n",
    "        replace_stride_with_dilation = [False, False, False]\n",
    "    if len(replace_stride_with_dilation) != 3:\n",
    "        raise ValueError(\"replace_stride_with_dilation should be None \"\n",
    "                          \"or a 3-element tuple, got {}\".format(replace_stride_with_dilation))\n",
    "    self.groups = groups\n",
    "    self.base_width = width_per_group\n",
    "    self.conv1 = nn.Conv2d(imgchan, self.inplanes, kernel_size=7, stride=2, padding=3,\n",
    "                            bias=False)\n",
    "    self.conv2 = nn.Conv2d(self.inplanes, 128, kernel_size=3, stride=1, padding=1, bias=False)\n",
    "    self.conv3 = nn.Conv2d(128, self.inplanes, kernel_size=3, stride=1, padding=1, bias=False)\n",
    "    self.bn1 = norm_layer(self.inplanes)\n",
    "    self.bn2 = norm_layer(128)\n",
    "    self.bn3 = norm_layer(self.inplanes)\n",
    "    # self.conv1 = nn.Conv2d(1, self.inplanes, kernel_size=3, stride=1, padding=1, bias=False)\n",
    "    self.bn1 = norm_layer(self.inplanes)\n",
    "    self.relu = nn.ReLU(inplace=True)\n",
    "    # self.maxpool = nn.MaxPool2d(kernel_size=3, stride=2, padding=1)\n",
    "    self.layer1 = self._make_layer(block, int(128 * s), layers[0], kernel_size= (img_size//2))\n",
    "    self.layer2 = self._make_layer(block, int(256 * s), layers[1], stride=2, kernel_size=(img_size//2),\n",
    "                                    dilate=replace_stride_with_dilation[0])\n",
    "    # self.layer3 = self._make_layer(block, int(512 * s), layers[2], stride=2, kernel_size=(img_size//4),\n",
    "    #                                dilate=replace_stride_with_dilation[1])\n",
    "    # self.layer4 = self._make_layer(block, int(1024 * s), layers[3], stride=2, kernel_size=(img_size//8),\n",
    "    #                                dilate=replace_stride_with_dilation[2])\n",
    "    \n",
    "    # Decoder\n",
    "    # self.decoder1 = nn.Conv2d(int(1024 *2*s)      ,        int(1024*2*s), kernel_size=3, stride=2, padding=1)\n",
    "    # self.decoder2 = nn.Conv2d(int(1024  *2*s)     , int(1024*s), kernel_size=3, stride=1, padding=1)\n",
    "    # self.decoder3 = nn.Conv2d(int(1024*s),  int(512*s), kernel_size=3, stride=1, padding=1)\n",
    "    self.decoder4 = nn.Conv2d(int(512*s) ,  int(256*s), kernel_size=3, stride=1, padding=1)\n",
    "    self.decoder5 = nn.Conv2d(int(256*s) , int(128*s) , kernel_size=3, stride=1, padding=1)\n",
    "    self.adjust   = nn.Conv2d(int(128*s) , num_classes, kernel_size=1, stride=1, padding=0)\n",
    "    self.soft     = nn.Softmax(dim=1)\n",
    "\n",
    "\n",
    "    self.conv1_p = nn.Conv2d(imgchan, self.inplanes, kernel_size=7, stride=2, padding=3,\n",
    "                            bias=False)\n",
    "    self.conv2_p = nn.Conv2d(self.inplanes,128, kernel_size=3, stride=1, padding=1,\n",
    "                            bias=False)\n",
    "    self.conv3_p = nn.Conv2d(128, self.inplanes, kernel_size=3, stride=1, padding=1,\n",
    "                            bias=False)\n",
    "    # self.conv1 = nn.Conv2d(1, self.inplanes, kernel_size=3, stride=1, padding=1, bias=False)\n",
    "    self.bn1_p = norm_layer(self.inplanes)\n",
    "    self.bn2_p = norm_layer(128)\n",
    "    self.bn3_p = norm_layer(self.inplanes)\n",
    "\n",
    "    self.relu_p = nn.ReLU(inplace=True)\n",
    "\n",
    "    img_size_p = img_size // 4\n",
    "\n",
    "    self.layer1_p = self._make_layer(block_2, int(128 * s), layers[0], kernel_size= (img_size_p//2))\n",
    "    self.layer2_p = self._make_layer(block_2, int(256 * s), layers[1], stride=2, kernel_size=(img_size_p//2),\n",
    "                                    dilate=replace_stride_with_dilation[0])\n",
    "    self.layer3_p = self._make_layer(block_2, int(512 * s), layers[2], stride=2, kernel_size=(img_size_p//4),\n",
    "                                    dilate=replace_stride_with_dilation[1])\n",
    "    self.layer4_p = self._make_layer(block_2, int(1024 * s), layers[3], stride=2, kernel_size=(img_size_p//8),\n",
    "                                    dilate=replace_stride_with_dilation[2])\n",
    "    \n",
    "    # Decoder\n",
    "    self.decoder1_p = nn.Conv2d(int(1024 *2*s)      ,        int(1024*2*s), kernel_size=3, stride=2, padding=1)\n",
    "    self.decoder2_p = nn.Conv2d(int(1024  *2*s)     , int(1024*s), kernel_size=3, stride=1, padding=1)\n",
    "    self.decoder3_p = nn.Conv2d(int(1024*s),  int(512*s), kernel_size=3, stride=1, padding=1)\n",
    "    self.decoder4_p = nn.Conv2d(int(512*s) ,  int(256*s), kernel_size=3, stride=1, padding=1)\n",
    "    self.decoder5_p = nn.Conv2d(int(256*s) , int(128*s) , kernel_size=3, stride=1, padding=1)\n",
    "\n",
    "    self.decoderf = nn.Conv2d(int(128*s) , int(128*s) , kernel_size=3, stride=1, padding=1)\n",
    "    self.adjust_p   = nn.Conv2d(int(128*s) , num_classes, kernel_size=1, stride=1, padding=0)\n",
    "    self.soft_p     = nn.Softmax(dim=1)\n",
    "\n",
    "\n",
    "  def _make_layer(self, block, planes, blocks, kernel_size=56, stride=1, dilate=False):\n",
    "    norm_layer = self._norm_layer\n",
    "    downsample = None\n",
    "    previous_dilation = self.dilation\n",
    "    if dilate:\n",
    "        self.dilation *= stride\n",
    "        stride = 1\n",
    "    if stride != 1 or self.inplanes != planes * block.expansion:\n",
    "        downsample = nn.Sequential(\n",
    "            conv1x1(self.inplanes, planes * block.expansion, stride),\n",
    "            norm_layer(planes * block.expansion),\n",
    "        )\n",
    "\n",
    "    layers = []\n",
    "    layers.append(block(self.inplanes, planes, stride, downsample, groups=self.groups,\n",
    "                        base_width=self.base_width, dilation=previous_dilation, \n",
    "                        norm_layer=norm_layer, kernel_size=kernel_size))\n",
    "    self.inplanes = planes * block.expansion\n",
    "    if stride != 1:\n",
    "        kernel_size = kernel_size // 2\n",
    "\n",
    "    for _ in range(1, blocks):\n",
    "        layers.append(block(self.inplanes, planes, groups=self.groups,\n",
    "                            base_width=self.base_width, dilation=self.dilation,\n",
    "                            norm_layer=norm_layer, kernel_size=kernel_size))\n",
    "\n",
    "    return nn.Sequential(*layers)\n",
    "\n",
    "  def _forward_impl(self, x):\n",
    "\n",
    "    xin = x.clone()\n",
    "    x = self.conv1(x)\n",
    "    x = self.bn1(x)\n",
    "    x = self.relu(x)\n",
    "    x = self.conv2(x)\n",
    "    x = self.bn2(x)\n",
    "    x = self.relu(x)\n",
    "    x = self.conv3(x)\n",
    "    x = self.bn3(x)\n",
    "    # x = F.max_pool2d(x,2,2)\n",
    "    x = self.relu(x)\n",
    "    \n",
    "    # x = self.maxpool(x)\n",
    "    # pdb.set_trace()\n",
    "    x1 = self.layer1(x)\n",
    "    # print(x1.shape)\n",
    "    x2 = self.layer2(x1)\n",
    "    # print(x2.shape)\n",
    "    # x3 = self.layer3(x2)\n",
    "    # # print(x3.shape)\n",
    "    # x4 = self.layer4(x3)\n",
    "    # # print(x4.shape)\n",
    "    # x = F.relu(F.interpolate(self.decoder1(x4), scale_factor=(2,2), mode ='bilinear'))\n",
    "    # x = torch.add(x, x4)\n",
    "    # x = F.relu(F.interpolate(self.decoder2(x4) , scale_factor=(2,2), mode ='bilinear'))\n",
    "    # x = torch.add(x, x3)\n",
    "    # x = F.relu(F.interpolate(self.decoder3(x3) , scale_factor=(2,2), mode ='bilinear'))\n",
    "    # x = torch.add(x, x2)\n",
    "    x = F.relu(F.interpolate(self.decoder4(x2) , scale_factor=(2,2), mode ='bilinear'))\n",
    "    x = torch.add(x, x1)\n",
    "    x = F.relu(F.interpolate(self.decoder5(x) , scale_factor=(2,2), mode ='bilinear'))\n",
    "    # print(x.shape)\n",
    "    \n",
    "    # end of full image training \n",
    "\n",
    "    # y_out = torch.ones((1,2,128,128))\n",
    "    x_loc = x.clone()\n",
    "    # x = F.relu(F.interpolate(self.decoder5(x) , scale_factor=(2,2), mode ='bilinear'))\n",
    "    #start \n",
    "    for i in range(0,4):\n",
    "        for j in range(0,4):\n",
    "\n",
    "            x_p = xin[:,:,32*i:32*(i+1),32*j:32*(j+1)]\n",
    "            # begin patch wise\n",
    "            x_p = self.conv1_p(x_p)\n",
    "            x_p = self.bn1_p(x_p)\n",
    "            # x = F.max_pool2d(x,2,2)\n",
    "            x_p = self.relu(x_p)\n",
    "\n",
    "            x_p = self.conv2_p(x_p)\n",
    "            x_p = self.bn2_p(x_p)\n",
    "            # x = F.max_pool2d(x,2,2)\n",
    "            x_p = self.relu(x_p)\n",
    "            x_p = self.conv3_p(x_p)\n",
    "            x_p = self.bn3_p(x_p)\n",
    "            # x = F.max_pool2d(x,2,2)\n",
    "            x_p = self.relu(x_p)\n",
    "            \n",
    "            # x = self.maxpool(x)\n",
    "            # pdb.set_trace()\n",
    "            x1_p = self.layer1_p(x_p)\n",
    "            # print(x1.shape)\n",
    "            x2_p = self.layer2_p(x1_p)\n",
    "            # print(x2.shape)\n",
    "            x3_p = self.layer3_p(x2_p)\n",
    "            # # print(x3.shape)\n",
    "            x4_p = self.layer4_p(x3_p)\n",
    "            \n",
    "            x_p = F.relu(F.interpolate(self.decoder1_p(x4_p), scale_factor=(2,2), mode ='bilinear'))\n",
    "            x_p = torch.add(x_p, x4_p)\n",
    "            x_p = F.relu(F.interpolate(self.decoder2_p(x_p) , scale_factor=(2,2), mode ='bilinear'))\n",
    "            x_p = torch.add(x_p, x3_p)\n",
    "            x_p = F.relu(F.interpolate(self.decoder3_p(x_p) , scale_factor=(2,2), mode ='bilinear'))\n",
    "            x_p = torch.add(x_p, x2_p)\n",
    "            x_p = F.relu(F.interpolate(self.decoder4_p(x_p) , scale_factor=(2,2), mode ='bilinear'))\n",
    "            x_p = torch.add(x_p, x1_p)\n",
    "            x_p = F.relu(F.interpolate(self.decoder5_p(x_p) , scale_factor=(2,2), mode ='bilinear'))\n",
    "            \n",
    "            x_loc[:,:,32*i:32*(i+1),32*j:32*(j+1)] = x_p\n",
    "\n",
    "    x = torch.add(x,x_loc)\n",
    "    x = F.relu(self.decoderf(x))\n",
    "    \n",
    "    x = self.adjust(F.relu(x))\n",
    "\n",
    "    # pdb.set_trace()\n",
    "    return x\n",
    "\n",
    "  def forward(self, x):\n",
    "    return self._forward_impl(x)\n",
    "\n",
    "def MedT(pretrained=False, **kwargs):\n",
    "    model = medt_net(AxialBlock_dynamic,AxialBlock_wopos, [1, 2, 4, 1], s= 0.125,  **kwargs)\n",
    "    return model\n",
    "\n",
    "def logo(pretrained=False, **kwargs):\n",
    "    model = medt_net(AxialBlock,AxialBlock, [1, 2, 4, 1], s= 0.125, **kwargs)\n",
    "    return model"
   ]
  },
  {
   "cell_type": "code",
   "execution_count": 16,
   "id": "85df29a0",
   "metadata": {
    "execution": {
     "iopub.execute_input": "2023-12-29T17:39:08.162353Z",
     "iopub.status.busy": "2023-12-29T17:39:08.162028Z",
     "iopub.status.idle": "2023-12-29T17:39:08.166403Z",
     "shell.execute_reply": "2023-12-29T17:39:08.165512Z"
    },
    "papermill": {
     "duration": 0.017613,
     "end_time": "2023-12-29T17:39:08.168262",
     "exception": false,
     "start_time": "2023-12-29T17:39:08.150649",
     "status": "completed"
    },
    "tags": []
   },
   "outputs": [],
   "source": [
    "from torch.nn.functional import cross_entropy\n",
    "from torch.nn.modules.loss import _WeightedLoss"
   ]
  },
  {
   "cell_type": "code",
   "execution_count": 17,
   "id": "9540affe",
   "metadata": {
    "execution": {
     "iopub.execute_input": "2023-12-29T17:39:08.189872Z",
     "iopub.status.busy": "2023-12-29T17:39:08.189584Z",
     "iopub.status.idle": "2023-12-29T17:39:08.204256Z",
     "shell.execute_reply": "2023-12-29T17:39:08.203473Z"
    },
    "papermill": {
     "duration": 0.027738,
     "end_time": "2023-12-29T17:39:08.206100",
     "exception": false,
     "start_time": "2023-12-29T17:39:08.178362",
     "status": "completed"
    },
    "tags": []
   },
   "outputs": [],
   "source": [
    "import torch\n",
    "from torch.nn.functional import cross_entropy\n",
    "from torch.nn.modules.loss import _WeightedLoss\n",
    "\n",
    "\n",
    "EPSILON = 1e-32\n",
    "\n",
    "\n",
    "class LogNLLLoss(_WeightedLoss):\n",
    "    __constants__ = ['weight', 'reduction', 'ignore_index']\n",
    "\n",
    "    def __init__(self, weight=None, size_average=None, reduce=None, reduction=None,\n",
    "                 ignore_index=-100):\n",
    "        super(LogNLLLoss, self).__init__(weight, size_average, reduce, reduction)\n",
    "        self.ignore_index = ignore_index\n",
    "\n",
    "    def forward(self, y_input, y_target):\n",
    "        # y_input = torch.log(y_input + EPSILON)\n",
    "        return cross_entropy(y_input, y_target, weight=self.weight,\n",
    "                             ignore_index=self.ignore_index)\n",
    "\n",
    "\n",
    "def classwise_iou(output, gt):\n",
    "    \"\"\"\n",
    "    Args:\n",
    "        output: torch.Tensor of shape (n_batch, n_classes, image.shape)\n",
    "        gt: torch.LongTensor of shape (n_batch, image.shape)\n",
    "    \"\"\"\n",
    "    #dims = (0, *range(2, len(output.shape)))\n",
    "    #gt = torch.zeros_like(output).scatter_(1, gt[:, None, :], 1)\n",
    "    output = torch.argmax(output, dim=1)\n",
    "    intersection = output*gt\n",
    "    union = output + gt - intersection\n",
    "    #classwise_iou = (intersection.sum(dim=dims).float() + EPSILON) / (union.sum(dim=dims) + EPSILON)\n",
    "    classwise_iou = (intersection.sum().float() + EPSILON) / (union.sum() + EPSILON)\n",
    "    return classwise_iou\n",
    "\n",
    "\n",
    "def classwise_f1(output, gt):\n",
    "    \"\"\"\n",
    "    Args:\n",
    "        output: torch.Tensor of shape (n_batch, n_classes, image.shape)\n",
    "        gt: torch.LongTensor of shape (n_batch, image.shape)\n",
    "    \"\"\"\n",
    "\n",
    "    epsilon = 1e-20\n",
    "    n_classes = output.shape[1]\n",
    "\n",
    "    output = torch.argmax(output, dim=1)\n",
    "    #print(output)\n",
    "    true_positives = torch.tensor([((output == i) * (gt == i)).sum() for i in range(n_classes)]).float()\n",
    "    true_positives = true_positives[1].item()\n",
    "    selected = ((output == 1)).sum().float()\n",
    "    relevant = ((gt == 1)).sum().float()\n",
    "    #selected = torch.tensor([(output == i).sum() for i in range(n_classes)]).float()\n",
    "    #relevant = torch.tensor([(gt == i).sum() for i in range(n_classes)]).float()\n",
    "    #print(\"relevant:\",relevant)\n",
    "    #print(\"selected:\",selected)\n",
    "    \n",
    "    precision = (true_positives + epsilon) / (selected + epsilon)\n",
    "    recall = (true_positives + epsilon) / (relevant + epsilon)\n",
    "    #print(precision)\n",
    "    #print(recall)\n",
    "    classwise_f1 = 2 * (precision * recall) / (precision + recall)\n",
    "\n",
    "    return classwise_f1\n",
    "\n",
    "\n",
    "def make_weighted_metric(classwise_metric):\n",
    "    \"\"\"\n",
    "    Args:\n",
    "        classwise_metric: classwise metric like classwise_IOU or classwise_F1\n",
    "    \"\"\"\n",
    "\n",
    "    def weighted_metric(output, gt, weights=None):\n",
    "\n",
    "        # dimensions to sum over\n",
    "        dims = (0, *range(2, len(output.shape)))\n",
    "\n",
    "        # default weights\n",
    "        if weights == None:\n",
    "            weights = torch.ones(output.shape[1]) / output.shape[1]\n",
    "        else:\n",
    "            # creating tensor if needed\n",
    "            if len(weights) != output.shape[1]:\n",
    "                raise ValueError(\"The number of weights must match with the number of classes\")\n",
    "            if not isinstance(weights, torch.Tensor):\n",
    "                weights = torch.tensor(weights)\n",
    "            # normalizing weights\n",
    "            weights /= torch.sum(weights)\n",
    "\n",
    "        classwise_scores = classwise_metric(output, gt).cpu()\n",
    "\n",
    "        return classwise_scores \n",
    "\n",
    "    return weighted_metric\n"
   ]
  },
  {
   "cell_type": "code",
   "execution_count": 18,
   "id": "06fa46d6",
   "metadata": {
    "execution": {
     "iopub.execute_input": "2023-12-29T17:39:08.227824Z",
     "iopub.status.busy": "2023-12-29T17:39:08.227534Z",
     "iopub.status.idle": "2023-12-29T17:39:08.285747Z",
     "shell.execute_reply": "2023-12-29T17:39:08.284746Z"
    },
    "papermill": {
     "duration": 0.071359,
     "end_time": "2023-12-29T17:39:08.287713",
     "exception": false,
     "start_time": "2023-12-29T17:39:08.216354",
     "status": "completed"
    },
    "tags": []
   },
   "outputs": [],
   "source": [
    "from tqdm import tqdm\n",
    "lr = 1e-3\n",
    "DEVICE = \"cuda\" if torch.cuda.is_available() else \"cpu\"\n",
    "NUM_EPOCHS = 180\n",
    "IMG_SIZE = 128\n",
    "IMG_CHANEL = 3\n",
    "save_freq = 4\n",
    "def save_checkpoint(state, filename=\"my_checkpoint.pth.tar\"):\n",
    "    print(\"=>Saving checkpoint\")\n",
    "    torch.save(state, filename)\n",
    "def load_checkpoint(checkpoint, model):\n",
    "    print(\"=> Loading checkpoint\")\n",
    "    model.load_state_dict(checkpoint[\"state_dict\"])"
   ]
  },
  {
   "cell_type": "code",
   "execution_count": 19,
   "id": "c676b4d5",
   "metadata": {
    "execution": {
     "iopub.execute_input": "2023-12-29T17:39:08.309174Z",
     "iopub.status.busy": "2023-12-29T17:39:08.308813Z",
     "iopub.status.idle": "2023-12-29T17:39:11.134182Z",
     "shell.execute_reply": "2023-12-29T17:39:11.133254Z"
    },
    "papermill": {
     "duration": 2.838602,
     "end_time": "2023-12-29T17:39:11.136546",
     "exception": false,
     "start_time": "2023-12-29T17:39:08.297944",
     "status": "completed"
    },
    "tags": []
   },
   "outputs": [],
   "source": [
    "model = MedT(img_size = IMG_SIZE, imgchan = IMG_CHANEL)\n",
    "model.cuda()\n",
    "criterion = LogNLLLoss()\n",
    "optimizer = torch.optim.Adam(model.parameters(), lr=lr, weight_decay=1e-5)\n",
    "scaler = torch.cuda.amp.GradScaler()\n",
    "reset_seed()"
   ]
  },
  {
   "cell_type": "code",
   "execution_count": 20,
   "id": "c6ac4db6",
   "metadata": {
    "execution": {
     "iopub.execute_input": "2023-12-29T17:39:11.160318Z",
     "iopub.status.busy": "2023-12-29T17:39:11.159581Z",
     "iopub.status.idle": "2023-12-29T17:39:11.170690Z",
     "shell.execute_reply": "2023-12-29T17:39:11.169817Z"
    },
    "papermill": {
     "duration": 0.025217,
     "end_time": "2023-12-29T17:39:11.172561",
     "exception": false,
     "start_time": "2023-12-29T17:39:11.147344",
     "status": "completed"
    },
    "tags": []
   },
   "outputs": [],
   "source": [
    "def train_fn(loader, model, optimizer, loss_fn, scaler):\n",
    "  train_running_loss = 0\n",
    "  counter = 0\n",
    "  loop = tqdm(loader)\n",
    "  for batch_idx, (data, targets) in enumerate(loop):\n",
    "    data = data.to(device=DEVICE)\n",
    "    targets = targets.long().to(DEVICE)\n",
    "\n",
    "    # forward\n",
    "\n",
    "    with torch.cuda.amp.autocast():\n",
    "      prediction = model(data)\n",
    "      loss = loss_fn(prediction, targets)\n",
    "    \"\"\"\n",
    "    # backward\n",
    "    optimizer.zero_grad()\n",
    "    scaler.scale(loss).backward()\n",
    "    #loss.backward()\n",
    "    scaler.step(optimizer)\n",
    "    scaler.update()\n",
    "    #optimizer.step()\n",
    "    \"\"\"\n",
    "    # backward\n",
    "    optimizer.zero_grad()\n",
    "    scaler.scale(loss).backward()\n",
    "    scaler.step(optimizer)\n",
    "    scaler.update()\n",
    "\n",
    "    # update tqdm loop\n",
    "    loop.set_postfix(loss = loss.item())\n",
    "    train_running_loss += loss.item()\n",
    "    counter += 1\n",
    "  return train_running_loss / counter\n",
    "\n",
    "def check_accuracy(loader, model, loss_fn, device=\"cuda\"):\n",
    "  my_f1 = 0\n",
    "  my_iou = 0\n",
    "  val_running_loss = 0\n",
    "  with torch.no_grad():\n",
    "    for X, y in loader:\n",
    "      batch_size = X.shape[0]\n",
    "      X = X.to(device)\n",
    "      y = y.long().to(device)\n",
    "      preds = model(X)\n",
    "      loss = loss_fn(preds, y)\n",
    "      val_running_loss += loss.item()\n",
    "      tmp = preds.detach().cpu()\n",
    "      tmp[tmp >= 0.5] = 1\n",
    "      tmp[tmp < 0.5] = 0\n",
    "      tmp2 = y.detach().cpu()\n",
    "      \n",
    "      \n",
    "      tmp = tmp.to(torch.int32)\n",
    "      my_f1 += classwise_f1(tmp, tmp2).item()\n",
    "      my_iou += classwise_iou(tmp, tmp2).item()\n",
    "  print(f\"IoU score: {my_iou/len(loader)}\")\n",
    "  print(f\"F1 score: {my_f1/len(loader)} \")\n",
    "  return val_running_loss"
   ]
  },
  {
   "cell_type": "code",
   "execution_count": 21,
   "id": "fd0d342b",
   "metadata": {
    "execution": {
     "iopub.execute_input": "2023-12-29T17:39:11.193695Z",
     "iopub.status.busy": "2023-12-29T17:39:11.193423Z",
     "iopub.status.idle": "2023-12-29T17:39:11.640917Z",
     "shell.execute_reply": "2023-12-29T17:39:11.640034Z"
    },
    "papermill": {
     "duration": 0.460438,
     "end_time": "2023-12-29T17:39:11.643146",
     "exception": false,
     "start_time": "2023-12-29T17:39:11.182708",
     "status": "completed"
    },
    "tags": []
   },
   "outputs": [
    {
     "data": {
      "text/plain": [
       "<All keys matched successfully>"
      ]
     },
     "execution_count": 21,
     "metadata": {},
     "output_type": "execute_result"
    }
   ],
   "source": [
    "my_checkpoint = torch.load(\"/kaggle/input/checkpoint/my_checkpoint.pth.tar\")\n",
    "model.load_state_dict(my_checkpoint['state_dict'])"
   ]
  },
  {
   "cell_type": "code",
   "execution_count": 22,
   "id": "7e4d0635",
   "metadata": {
    "execution": {
     "iopub.execute_input": "2023-12-29T17:39:11.665097Z",
     "iopub.status.busy": "2023-12-29T17:39:11.664739Z",
     "iopub.status.idle": "2023-12-29T17:39:11.670326Z",
     "shell.execute_reply": "2023-12-29T17:39:11.669503Z"
    },
    "papermill": {
     "duration": 0.018651,
     "end_time": "2023-12-29T17:39:11.672161",
     "exception": false,
     "start_time": "2023-12-29T17:39:11.653510",
     "status": "completed"
    },
    "tags": []
   },
   "outputs": [],
   "source": [
    "for param in model.parameters():\n",
    "    param.requires_grad = True"
   ]
  },
  {
   "cell_type": "code",
   "execution_count": 23,
   "id": "6b4b05b6",
   "metadata": {
    "execution": {
     "iopub.execute_input": "2023-12-29T17:39:11.693905Z",
     "iopub.status.busy": "2023-12-29T17:39:11.693630Z",
     "iopub.status.idle": "2023-12-29T22:27:22.713800Z",
     "shell.execute_reply": "2023-12-29T22:27:22.712317Z"
    },
    "papermill": {
     "duration": 17291.034121,
     "end_time": "2023-12-29T22:27:22.716414",
     "exception": false,
     "start_time": "2023-12-29T17:39:11.682293",
     "status": "completed"
    },
    "tags": []
   },
   "outputs": [
    {
     "name": "stdout",
     "output_type": "stream",
     "text": [
      "============Epoch 151 ============ \n"
     ]
    },
    {
     "name": "stderr",
     "output_type": "stream",
     "text": [
      "100%|██████████| 533/533 [10:01<00:00,  1.13s/it, loss=0.0829]\n"
     ]
    },
    {
     "name": "stdout",
     "output_type": "stream",
     "text": [
      "============Epoch 152 ============ \n"
     ]
    },
    {
     "name": "stderr",
     "output_type": "stream",
     "text": [
      "100%|██████████| 533/533 [09:57<00:00,  1.12s/it, loss=0.0523]\n"
     ]
    },
    {
     "name": "stdout",
     "output_type": "stream",
     "text": [
      "=>Saving checkpoint\n",
      "IoU score: 0.8124062285494449\n",
      "F1 score: 0.8963643872915809 \n",
      "============Epoch 153 ============ \n"
     ]
    },
    {
     "name": "stderr",
     "output_type": "stream",
     "text": [
      "100%|██████████| 533/533 [09:57<00:00,  1.12s/it, loss=0.0569]\n"
     ]
    },
    {
     "name": "stdout",
     "output_type": "stream",
     "text": [
      "============Epoch 154 ============ \n"
     ]
    },
    {
     "name": "stderr",
     "output_type": "stream",
     "text": [
      "100%|██████████| 533/533 [09:55<00:00,  1.12s/it, loss=0.0492]\n"
     ]
    },
    {
     "name": "stdout",
     "output_type": "stream",
     "text": [
      "============Epoch 155 ============ \n"
     ]
    },
    {
     "name": "stderr",
     "output_type": "stream",
     "text": [
      "100%|██████████| 533/533 [09:54<00:00,  1.11s/it, loss=0.0443]\n"
     ]
    },
    {
     "name": "stdout",
     "output_type": "stream",
     "text": [
      "============Epoch 156 ============ \n"
     ]
    },
    {
     "name": "stderr",
     "output_type": "stream",
     "text": [
      "100%|██████████| 533/533 [09:53<00:00,  1.11s/it, loss=0.042]\n"
     ]
    },
    {
     "name": "stdout",
     "output_type": "stream",
     "text": [
      "=>Saving checkpoint\n",
      "IoU score: 0.8811565121607994\n",
      "F1 score: 0.9367629698852995 \n",
      "============Epoch 157 ============ \n"
     ]
    },
    {
     "name": "stderr",
     "output_type": "stream",
     "text": [
      "100%|██████████| 533/533 [09:52<00:00,  1.11s/it, loss=0.0462]\n"
     ]
    },
    {
     "name": "stdout",
     "output_type": "stream",
     "text": [
      "============Epoch 158 ============ \n"
     ]
    },
    {
     "name": "stderr",
     "output_type": "stream",
     "text": [
      "100%|██████████| 533/533 [09:52<00:00,  1.11s/it, loss=0.0413]\n"
     ]
    },
    {
     "name": "stdout",
     "output_type": "stream",
     "text": [
      "============Epoch 159 ============ \n"
     ]
    },
    {
     "name": "stderr",
     "output_type": "stream",
     "text": [
      "100%|██████████| 533/533 [09:51<00:00,  1.11s/it, loss=0.0534]\n"
     ]
    },
    {
     "name": "stdout",
     "output_type": "stream",
     "text": [
      "============Epoch 160 ============ \n"
     ]
    },
    {
     "name": "stderr",
     "output_type": "stream",
     "text": [
      "100%|██████████| 533/533 [09:52<00:00,  1.11s/it, loss=0.0445]\n"
     ]
    },
    {
     "name": "stdout",
     "output_type": "stream",
     "text": [
      "=>Saving checkpoint\n",
      "IoU score: 0.9033456346881923\n",
      "F1 score: 0.9491792321205139 \n",
      "============Epoch 161 ============ \n"
     ]
    },
    {
     "name": "stderr",
     "output_type": "stream",
     "text": [
      "100%|██████████| 533/533 [09:48<00:00,  1.10s/it, loss=0.037]\n"
     ]
    },
    {
     "name": "stdout",
     "output_type": "stream",
     "text": [
      "============Epoch 162 ============ \n"
     ]
    },
    {
     "name": "stderr",
     "output_type": "stream",
     "text": [
      "100%|██████████| 533/533 [09:44<00:00,  1.10s/it, loss=0.0451]\n"
     ]
    },
    {
     "name": "stdout",
     "output_type": "stream",
     "text": [
      "============Epoch 163 ============ \n"
     ]
    },
    {
     "name": "stderr",
     "output_type": "stream",
     "text": [
      "100%|██████████| 533/533 [09:44<00:00,  1.10s/it, loss=0.0375]\n"
     ]
    },
    {
     "name": "stdout",
     "output_type": "stream",
     "text": [
      "============Epoch 164 ============ \n"
     ]
    },
    {
     "name": "stderr",
     "output_type": "stream",
     "text": [
      "100%|██████████| 533/533 [09:44<00:00,  1.10s/it, loss=0.0398]\n"
     ]
    },
    {
     "name": "stdout",
     "output_type": "stream",
     "text": [
      "=>Saving checkpoint\n",
      "IoU score: 0.8927426071309331\n",
      "F1 score: 0.9432954948339889 \n",
      "============Epoch 165 ============ \n"
     ]
    },
    {
     "name": "stderr",
     "output_type": "stream",
     "text": [
      "100%|██████████| 533/533 [09:44<00:00,  1.10s/it, loss=0.0327]\n"
     ]
    },
    {
     "name": "stdout",
     "output_type": "stream",
     "text": [
      "============Epoch 166 ============ \n"
     ]
    },
    {
     "name": "stderr",
     "output_type": "stream",
     "text": [
      "100%|██████████| 533/533 [09:43<00:00,  1.10s/it, loss=0.0371]\n"
     ]
    },
    {
     "name": "stdout",
     "output_type": "stream",
     "text": [
      "============Epoch 167 ============ \n"
     ]
    },
    {
     "name": "stderr",
     "output_type": "stream",
     "text": [
      "100%|██████████| 533/533 [09:44<00:00,  1.10s/it, loss=0.0335]\n"
     ]
    },
    {
     "name": "stdout",
     "output_type": "stream",
     "text": [
      "============Epoch 168 ============ \n"
     ]
    },
    {
     "name": "stderr",
     "output_type": "stream",
     "text": [
      "100%|██████████| 533/533 [09:43<00:00,  1.09s/it, loss=0.0347]\n"
     ]
    },
    {
     "name": "stdout",
     "output_type": "stream",
     "text": [
      "=>Saving checkpoint\n",
      "IoU score: 0.9064489718693406\n",
      "F1 score: 0.9508954766970962 \n",
      "============Epoch 169 ============ \n"
     ]
    },
    {
     "name": "stderr",
     "output_type": "stream",
     "text": [
      "100%|██████████| 533/533 [09:43<00:00,  1.09s/it, loss=0.0453]\n"
     ]
    },
    {
     "name": "stdout",
     "output_type": "stream",
     "text": [
      "============Epoch 170 ============ \n"
     ]
    },
    {
     "name": "stderr",
     "output_type": "stream",
     "text": [
      "100%|██████████| 533/533 [09:42<00:00,  1.09s/it, loss=0.0389]\n"
     ]
    },
    {
     "name": "stdout",
     "output_type": "stream",
     "text": [
      "============Epoch 171 ============ \n"
     ]
    },
    {
     "name": "stderr",
     "output_type": "stream",
     "text": [
      "100%|██████████| 533/533 [09:43<00:00,  1.09s/it, loss=0.0355]\n"
     ]
    },
    {
     "name": "stdout",
     "output_type": "stream",
     "text": [
      "============Epoch 172 ============ \n"
     ]
    },
    {
     "name": "stderr",
     "output_type": "stream",
     "text": [
      "100%|██████████| 533/533 [09:43<00:00,  1.09s/it, loss=0.0315]\n"
     ]
    },
    {
     "name": "stdout",
     "output_type": "stream",
     "text": [
      "=>Saving checkpoint\n",
      "IoU score: 0.9173822563085983\n",
      "F1 score: 0.956880287447972 \n",
      "============Epoch 173 ============ \n"
     ]
    },
    {
     "name": "stderr",
     "output_type": "stream",
     "text": [
      "100%|██████████| 533/533 [09:42<00:00,  1.09s/it, loss=0.0292]\n"
     ]
    },
    {
     "name": "stdout",
     "output_type": "stream",
     "text": [
      "============Epoch 174 ============ \n"
     ]
    },
    {
     "name": "stderr",
     "output_type": "stream",
     "text": [
      "100%|██████████| 533/533 [09:43<00:00,  1.09s/it, loss=0.0329]\n"
     ]
    },
    {
     "name": "stdout",
     "output_type": "stream",
     "text": [
      "============Epoch 175 ============ \n"
     ]
    },
    {
     "name": "stderr",
     "output_type": "stream",
     "text": [
      "100%|██████████| 533/533 [09:43<00:00,  1.09s/it, loss=0.0382]\n"
     ]
    },
    {
     "name": "stdout",
     "output_type": "stream",
     "text": [
      "============Epoch 176 ============ \n"
     ]
    },
    {
     "name": "stderr",
     "output_type": "stream",
     "text": [
      "100%|██████████| 533/533 [09:43<00:00,  1.09s/it, loss=0.0437]\n"
     ]
    },
    {
     "name": "stdout",
     "output_type": "stream",
     "text": [
      "=>Saving checkpoint\n",
      "IoU score: 0.9209727057770117\n",
      "F1 score: 0.9588371239491363 \n",
      "============Epoch 177 ============ \n"
     ]
    },
    {
     "name": "stderr",
     "output_type": "stream",
     "text": [
      "100%|██████████| 533/533 [09:42<00:00,  1.09s/it, loss=0.0393]\n"
     ]
    },
    {
     "name": "stdout",
     "output_type": "stream",
     "text": [
      "============Epoch 178 ============ \n"
     ]
    },
    {
     "name": "stderr",
     "output_type": "stream",
     "text": [
      "100%|██████████| 533/533 [09:42<00:00,  1.09s/it, loss=0.0374]\n"
     ]
    },
    {
     "name": "stdout",
     "output_type": "stream",
     "text": [
      "============Epoch 179 ============ \n"
     ]
    },
    {
     "name": "stderr",
     "output_type": "stream",
     "text": [
      "100%|██████████| 533/533 [09:42<00:00,  1.09s/it, loss=0.0327]\n"
     ]
    }
   ],
   "source": [
    "loss_history = {\"train\":[], \"val\":[]}\n",
    "for epoch in range(151, NUM_EPOCHS):\n",
    "  #model.cuda()\n",
    "  print(f\"============Epoch {epoch} ============ \")\n",
    "  train_loss = train_fn(train_loader, model, optimizer, criterion, scaler)\n",
    "  \"\"\"\n",
    "  if epoch == 10:\n",
    "    for param in model.parameters():\n",
    "      param.requires_grad = True\n",
    "  \"\"\"\n",
    "  if (epoch % save_freq) == 0:\n",
    "    checkpoint = {\n",
    "        \"state_dict\": model.state_dict(),\n",
    "        \"optimizer\" : optimizer.state_dict(),\n",
    "    }\n",
    "    save_checkpoint(checkpoint)\n",
    "    val_loss = check_accuracy(val_loader, model, criterion, DEVICE)\n",
    "    loss_history[\"val\"].append(val_loss)\n",
    "    loss_history[\"train\"].append(train_loss)"
   ]
  },
  {
   "cell_type": "code",
   "execution_count": 24,
   "id": "7c59e5fe",
   "metadata": {
    "execution": {
     "iopub.execute_input": "2023-12-29T22:27:27.767716Z",
     "iopub.status.busy": "2023-12-29T22:27:27.767329Z",
     "iopub.status.idle": "2023-12-29T22:28:03.377104Z",
     "shell.execute_reply": "2023-12-29T22:28:03.375766Z"
    },
    "papermill": {
     "duration": 40.579058,
     "end_time": "2023-12-29T22:28:05.811039",
     "exception": false,
     "start_time": "2023-12-29T22:27:25.231981",
     "status": "completed"
    },
    "tags": []
   },
   "outputs": [
    {
     "name": "stdout",
     "output_type": "stream",
     "text": [
      "IoU score: 0.9185649236636375\n",
      "F1 score: 0.9575326736293622 \n"
     ]
    }
   ],
   "source": [
    "test_loss = check_accuracy(test_loader, model, criterion, DEVICE)"
   ]
  },
  {
   "cell_type": "code",
   "execution_count": 25,
   "id": "cc90fac0",
   "metadata": {
    "execution": {
     "iopub.execute_input": "2023-12-29T22:28:10.929690Z",
     "iopub.status.busy": "2023-12-29T22:28:10.928791Z",
     "iopub.status.idle": "2023-12-29T22:28:11.673144Z",
     "shell.execute_reply": "2023-12-29T22:28:11.672188Z"
    },
    "papermill": {
     "duration": 3.301194,
     "end_time": "2023-12-29T22:28:11.675282",
     "exception": false,
     "start_time": "2023-12-29T22:28:08.374088",
     "status": "completed"
    },
    "tags": []
   },
   "outputs": [
    {
     "data": {
      "image/png": "[encoded data removed]",
      "text/plain": [
       "<Figure size 640x480 with 3 Axes>"
      ]
     },
     "metadata": {},
     "output_type": "display_data"
    }
   ],
   "source": [
    "my_index = torch.randint(0, len(test_ds),size=(1,)).item()\n",
    "with torch.no_grad():\n",
    "    X_test, y_test = test_ds[my_index]\n",
    "    pred_test = model(X_test.unsqueeze(0).cuda())\n",
    "    pred_test = torch.argmax(pred_test, dim=1)\n",
    "    my_figrue, axarr = plt.subplots(1,3)\n",
    "    axarr[0].imshow(X_test.cpu().transpose(0,2).transpose(0,1))\n",
    "    axarr[1].imshow(y_test.cpu())\n",
    "    axarr[2].imshow(pred_test.squeeze(0).cpu())"
   ]
  },
  {
   "cell_type": "code",
   "execution_count": 26,
   "id": "7c1fc6c3",
   "metadata": {
    "execution": {
     "iopub.execute_input": "2023-12-29T22:28:16.623781Z",
     "iopub.status.busy": "2023-12-29T22:28:16.623426Z",
     "iopub.status.idle": "2023-12-29T22:28:16.774739Z",
     "shell.execute_reply": "2023-12-29T22:28:16.773767Z"
    },
    "papermill": {
     "duration": 2.68616,
     "end_time": "2023-12-29T22:28:16.777177",
     "exception": false,
     "start_time": "2023-12-29T22:28:14.091017",
     "status": "completed"
    },
    "tags": []
   },
   "outputs": [
    {
     "name": "stdout",
     "output_type": "stream",
     "text": [
      "=>Saving checkpoint\n",
      "saved\n"
     ]
    }
   ],
   "source": [
    "save_checkpoint(checkpoint)\n",
    "print('saved')"
   ]
  },
  {
   "cell_type": "code",
   "execution_count": null,
   "id": "27e2ead0",
   "metadata": {
    "execution": {
     "iopub.execute_input": "2023-12-28T12:48:53.833108Z",
     "iopub.status.busy": "2023-12-28T12:48:53.832230Z",
     "iopub.status.idle": "2023-12-28T12:48:55.393270Z",
     "shell.execute_reply": "2023-12-28T12:48:55.392008Z",
     "shell.execute_reply.started": "2023-12-28T12:48:53.833074Z"
    },
    "papermill": {
     "duration": 2.484467,
     "end_time": "2023-12-29T22:28:21.813178",
     "exception": false,
     "start_time": "2023-12-29T22:28:19.328711",
     "status": "completed"
    },
    "tags": []
   },
   "outputs": [],
   "source": []
  },
  {
   "cell_type": "code",
   "execution_count": null,
   "id": "b608859a",
   "metadata": {
    "execution": {
     "iopub.execute_input": "2023-12-28T12:37:09.637504Z",
     "iopub.status.busy": "2023-12-28T12:37:09.636741Z",
     "iopub.status.idle": "2023-12-28T12:37:12.082134Z",
     "shell.execute_reply": "2023-12-28T12:37:12.081255Z",
     "shell.execute_reply.started": "2023-12-28T12:37:09.637466Z"
    },
    "papermill": {
     "duration": 2.538009,
     "end_time": "2023-12-29T22:28:26.890692",
     "exception": false,
     "start_time": "2023-12-29T22:28:24.352683",
     "status": "completed"
    },
    "tags": []
   },
   "outputs": [],
   "source": []
  },
  {
   "cell_type": "code",
   "execution_count": null,
   "id": "da69b8b5",
   "metadata": {
    "execution": {
     "iopub.execute_input": "2023-12-28T16:19:46.995795Z",
     "iopub.status.busy": "2023-12-28T16:19:46.995415Z",
     "iopub.status.idle": "2023-12-28T16:20:03.093003Z",
     "shell.execute_reply": "2023-12-28T16:20:03.091266Z",
     "shell.execute_reply.started": "2023-12-28T16:19:46.995765Z"
    },
    "papermill": {
     "duration": 2.531454,
     "end_time": "2023-12-29T22:28:31.831489",
     "exception": false,
     "start_time": "2023-12-29T22:28:29.300035",
     "status": "completed"
    },
    "tags": []
   },
   "outputs": [],
   "source": []
  },
  {
   "cell_type": "code",
   "execution_count": null,
   "id": "11cb0b7a",
   "metadata": {
    "execution": {
     "iopub.execute_input": "2023-12-28T16:24:53.129715Z",
     "iopub.status.busy": "2023-12-28T16:24:53.129312Z",
     "iopub.status.idle": "2023-12-28T16:24:53.267748Z",
     "shell.execute_reply": "2023-12-28T16:24:53.266447Z",
     "shell.execute_reply.started": "2023-12-28T16:24:53.129682Z"
    },
    "papermill": {
     "duration": 2.413562,
     "end_time": "2023-12-29T22:28:36.847234",
     "exception": false,
     "start_time": "2023-12-29T22:28:34.433672",
     "status": "completed"
    },
    "tags": []
   },
   "outputs": [],
   "source": []
  },
  {
   "cell_type": "code",
   "execution_count": null,
   "id": "7ff49255",
   "metadata": {
    "execution": {
     "iopub.execute_input": "2023-12-28T16:18:37.596784Z",
     "iopub.status.busy": "2023-12-28T16:18:37.595843Z",
     "iopub.status.idle": "2023-12-28T16:18:37.949112Z",
     "shell.execute_reply": "2023-12-28T16:18:37.947917Z",
     "shell.execute_reply.started": "2023-12-28T16:18:37.596738Z"
    },
    "papermill": {
     "duration": 2.567568,
     "end_time": "2023-12-29T22:28:41.969187",
     "exception": false,
     "start_time": "2023-12-29T22:28:39.401619",
     "status": "completed"
    },
    "tags": []
   },
   "outputs": [],
   "source": []
  },
  {
   "cell_type": "code",
   "execution_count": null,
   "id": "1d86d8f1",
   "metadata": {
    "execution": {
     "iopub.execute_input": "2023-12-28T13:36:31.205434Z",
     "iopub.status.busy": "2023-12-28T13:36:31.204540Z",
     "iopub.status.idle": "2023-12-28T13:36:31.831453Z",
     "shell.execute_reply": "2023-12-28T13:36:31.830234Z",
     "shell.execute_reply.started": "2023-12-28T13:36:31.205395Z"
    },
    "papermill": {
     "duration": 2.51528,
     "end_time": "2023-12-29T22:28:46.883141",
     "exception": false,
     "start_time": "2023-12-29T22:28:44.367861",
     "status": "completed"
    },
    "tags": []
   },
   "outputs": [],
   "source": []
  },
  {
   "cell_type": "code",
   "execution_count": null,
   "id": "5b08e364",
   "metadata": {
    "execution": {
     "iopub.execute_input": "2023-12-28T16:53:09.558937Z",
     "iopub.status.busy": "2023-12-28T16:53:09.558576Z",
     "iopub.status.idle": "2023-12-28T16:53:11.438374Z",
     "shell.execute_reply": "2023-12-28T16:53:11.437426Z",
     "shell.execute_reply.started": "2023-12-28T16:53:09.558907Z"
    },
    "papermill": {
     "duration": 2.42722,
     "end_time": "2023-12-29T22:28:51.827132",
     "exception": false,
     "start_time": "2023-12-29T22:28:49.399912",
     "status": "completed"
    },
    "tags": []
   },
   "outputs": [],
   "source": []
  }
 ],
 "metadata": {
  "kaggle": {
   "accelerator": "gpu",
   "dataSources": [
    {
     "datasetId": 5839,
     "sourceId": 18613,
     "sourceType": "datasetVersion"
    },
    {
     "datasetId": 4177129,
     "sourceId": 7217573,
     "sourceType": "datasetVersion"
    },
    {
     "datasetId": 4232590,
     "sourceId": 7296870,
     "sourceType": "datasetVersion"
    }
   ],
   "dockerImageVersionId": 30627,
   "isGpuEnabled": true,
   "isInternetEnabled": true,
   "language": "python",
   "sourceType": "notebook"
  },
  "kernelspec": {
   "display_name": "Python 3",
   "language": "python",
   "name": "python3"
  },
  "language_info": {
   "codemirror_mode": {
    "name": "ipython",
    "version": 3
   },
   "file_extension": ".py",
   "mimetype": "text/x-python",
   "name": "python",
   "nbconvert_exporter": "python",
   "pygments_lexer": "ipython3",
   "version": "3.10.12"
  },
  "papermill": {
   "default_parameters": {},
   "duration": 17766.124601,
   "end_time": "2023-12-29T22:28:56.846408",
   "environment_variables": {},
   "exception": null,
   "input_path": "__notebook__.ipynb",
   "output_path": "__notebook__.ipynb",
   "parameters": {},
   "start_time": "2023-12-29T17:32:50.721807",
   "version": "2.4.0"
  }
 },
 "nbformat": 4,
 "nbformat_minor": 5
}
